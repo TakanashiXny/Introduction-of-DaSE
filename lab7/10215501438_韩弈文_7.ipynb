{
 "cells": [
  {
   "cell_type": "markdown",
   "source": [
    " daily_KP_SUN_2020.csv 取自香港天文台开放数据集，该数据为香港京士柏气象监测站采集的\n",
    "2020年1月1日至9月30日每日日照小时数。请先用Excel或记事本预览该数据集，然后通过Python\n",
    "文件读取，用Matplotlib绘制出每月总日照小时数对比的柱状图和每月平均日照小时数对比的柱状\n",
    "图（请在画布上绘制两个子图，可左右排列也可上下排列）。"
   ],
   "metadata": {
    "collapsed": false
   }
  },
  {
   "cell_type": "code",
   "execution_count": null,
   "outputs": [],
   "source": [
    "import numpy as np\n",
    "import matplotlib.pyplot as plt\n",
    "\n",
    "\n",
    "with open(r'E:\\学习\\数据科学与工程导论\\lab7\\daily_KP_SUN_2020.csv', 'r', encoding='utf-8') as f1:\n",
    "    s1 = f1.readlines()\n",
    "    s2 = s1[3:]\n",
    "    lst = []\n",
    "    for i in range(len(s2)):\n",
    "        s2[i] = s2[i].strip('\\n').strip(\",'C'\").split(',')\n",
    "        lst.append(s2[i])\n",
    "\n",
    "\n",
    "total = np.zeros(9)\n",
    "for k in lst:\n",
    "    total[int(k[1]) - 1] += float(k[3])\n",
    "month_total = np.array([31, 29, 31, 30, 31, 30, 31, 31, 30])\n",
    "average = total / month_total\n",
    "\n",
    "\n",
    "plt.rcParams['font.sans-serif'] = ['SimHei']\n",
    "plt.rcParams['axes.unicode_minus'] = False\n",
    "x = [i for i in range(1, 10)]\n",
    "plt.subplot(211)\n",
    "plt.bar(x, total, color='orange')\n",
    "plt.title(\"每月总日照数\")\n",
    "plt.subplot(212)\n",
    "plt.bar(x, average, color='red')\n",
    "plt.title(\"每月平均日照数\")\n",
    "plt.subplots_adjust(hspace=1.0)\n",
    "plt.show()\n"
   ],
   "metadata": {
    "collapsed": false
   }
  },
  {
   "cell_type": "markdown",
   "source": [
    "鸢尾花数据集是机器学习和数据分析领域中常用的数据集，通过花萼长度(Sepal Length)，花萼宽\n",
    "度(Sepal Width)，花瓣长度(Petal Length)，花瓣宽度(Petal Width)4个属性预测鸢尾花卉属于\n",
    "(Setosa，Versicolour，Virginica)三个种类中的哪一类。请通过Python读取 iris.csv 文件，分\n",
    "别绘制出4个属性之间两两组合组成的6组变量组合的散点图（可在一张画布上显示2*3的子图），\n",
    "寻找是否可通过某两个变量可确定鸢尾花的种类。"
   ],
   "metadata": {
    "collapsed": false
   }
  },
  {
   "cell_type": "code",
   "execution_count": null,
   "outputs": [],
   "source": [
    "import matplotlib.pyplot as plt\n",
    "\n",
    "\n",
    "with open(r'E:\\学习\\数据科学与工程导论\\lab7\\iris.csv', 'r', encoding='utf-8') as f2:\n",
    "    s1 = f2.readlines()\n",
    "    lst = s1[1:]\n",
    "\n",
    "\n",
    "for i in range(len(lst)):\n",
    "    lst[i] = lst[i].strip('\\n').split(',')\n",
    "\n",
    "\n",
    "Sepal_Length = []\n",
    "Sepal_Width = []\n",
    "Petal_Length = []\n",
    "Petal_Width = []\n",
    "for i in lst:\n",
    "    Sepal_Length.append(float(i[0]))\n",
    "    Sepal_Width.append(float(i[1]))\n",
    "    Petal_Length.append(float(i[2]))\n",
    "    Petal_Width.append(float(i[3]))\n",
    "\n",
    "\n",
    "plt.rcParams['font.sans-serif'] = ['SimHei']\n",
    "plt.rcParams['axes.unicode_minus'] = False\n",
    "\n",
    "plt.subplot(231)\n",
    "plt.scatter(Sepal_Length[1:52], Sepal_Width[1:52], s=3, color=\"blue\")\n",
    "plt.scatter(Sepal_Length[52:102], Sepal_Width[52:102], s=3, color=\"green\")\n",
    "plt.scatter(Sepal_Length[102:152], Sepal_Width[102:152], s=3, color=\"red\")\n",
    "plt.title(\"花萼长度与花萼宽度\")\n",
    "\n",
    "plt.subplot(232)\n",
    "plt.scatter(Sepal_Length[1:52], Petal_Length[1:52], s=3, color=\"blue\")\n",
    "plt.scatter(Sepal_Length[52:102], Petal_Length[52:102], s=3, color=\"green\")\n",
    "plt.scatter(Sepal_Length[102:152], Petal_Length[102:152], s=3, color=\"red\")\n",
    "plt.title(\"花萼长度与花瓣长度\")\n",
    "\n",
    "plt.subplot(233)\n",
    "plt.scatter(Sepal_Length[1:52], Petal_Width[1:52], s=3, color=\"blue\")\n",
    "plt.scatter(Sepal_Length[52:102], Petal_Width[52:102], s=3, color=\"green\")\n",
    "plt.scatter(Sepal_Length[102:152], Petal_Width[102:152], s=3, color=\"red\")\n",
    "plt.title(\"花萼长度与花瓣宽度\")\n",
    "\n",
    "plt.subplot(234)\n",
    "plt.scatter(Sepal_Width[1:52], Petal_Length[1:52], s=3, color=\"blue\")\n",
    "plt.scatter(Sepal_Width[52:102], Petal_Length[52:102], s=3, color=\"green\")\n",
    "plt.scatter(Sepal_Width[102:152], Petal_Length[102:152], s=3, color=\"red\")\n",
    "plt.title(\"花萼宽度与花瓣长度\")\n",
    "\n",
    "plt.subplot(235)\n",
    "plt.scatter(Sepal_Width[1:52], Petal_Width[1:52], s=3, color=\"blue\")\n",
    "plt.scatter(Sepal_Width[52:102], Petal_Width[52:102], s=3, color=\"green\")\n",
    "plt.scatter(Sepal_Width[102:152], Petal_Width[102:152], s=3, color=\"red\")\n",
    "plt.title(\"花萼长度与花瓣宽度\")\n",
    "\n",
    "plt.subplot(236)\n",
    "plt.scatter(Petal_Length[1:52], Petal_Width[1:52], s=3, color=\"blue\")\n",
    "plt.scatter(Petal_Length[52:102], Petal_Width[52:102], s=3, color=\"green\")\n",
    "plt.scatter(Petal_Length[102:152], Petal_Width[102:152], s=3, color=\"red\")\n",
    "plt.title(\"花瓣长度与花瓣宽度\")\n",
    "\n",
    "plt.subplots_adjust(hspace=1.0)\n",
    "plt.show()\n",
    "# 花瓣长度与花瓣宽度可以确定种类\n"
   ],
   "metadata": {
    "collapsed": false
   }
  }
 ],
 "metadata": {
  "kernelspec": {
   "display_name": "Python 3",
   "language": "python",
   "name": "python3"
  },
  "language_info": {
   "codemirror_mode": {
    "name": "ipython",
    "version": 2
   },
   "file_extension": ".py",
   "mimetype": "text/x-python",
   "name": "python",
   "nbconvert_exporter": "python",
   "pygments_lexer": "ipython2",
   "version": "2.7.6"
  }
 },
 "nbformat": 4,
 "nbformat_minor": 0
}
