{
 "cells": [
  {
   "cell_type": "markdown",
   "source": [
    "1. 请用Python编写冒泡排序的算法；"
   ],
   "metadata": {
    "collapsed": false
   }
  },
  {
   "cell_type": "code",
   "execution_count": null,
   "outputs": [],
   "source": [
    "def bubble_sort(lst: list) -> list:\n",
    "    size = len(lst)\n",
    "    for i in range(1, size):\n",
    "        for j in range(size-i):\n",
    "            if lst[j] > lst[j + 1]:\n",
    "                lst[j], lst[j + 1] = lst[j + 1], lst[j]\n",
    "    return lst\n",
    "\n",
    "\n",
    "if __name__ == '__main__':\n",
    "    s = input(\"请输入一列要排序的数字: \")\n",
    "    num = s.split()\n",
    "    num = list(map(lambda x: int(x), num))\n",
    "    result = bubble_sort(num)\n",
    "    print(result)\n"
   ],
   "metadata": {
    "collapsed": false
   }
  },
  {
   "cell_type": "markdown",
   "source": [
    "2. 请对两种解决同一问题（比如求函数导数、查找算法等等）但是时间复杂度不同的算法进行效率比\n",
    "较"
   ],
   "metadata": {
    "collapsed": false
   }
  },
  {
   "cell_type": "code",
   "execution_count": null,
   "outputs": [],
   "source": [
    "import random\n",
    "import time\n",
    "\n",
    "\n",
    "def bubble_sort(lst: list) -> list:\n",
    "    size = len(lst)\n",
    "    for i in range(1, size):\n",
    "        for j in range(size-i):\n",
    "            if lst[j] > lst[j + 1]:\n",
    "                lst[j], lst[j + 1] = lst[j + 1], lst[j]\n",
    "    return lst\n",
    "\n",
    "\n",
    "def partition(lst: list, left: int, right: int) -> int:\n",
    "    key = lst[right]\n",
    "    i2 = left - 1\n",
    "    for j in range(left, right):\n",
    "        if lst[j] <= key:\n",
    "            i2 += 1\n",
    "            lst[i2], lst[j] = lst[j], lst[i2]\n",
    "    lst[right], lst[i2+1] = lst[i2+1], lst[right]\n",
    "    return i2+1\n",
    "\n",
    "\n",
    "def randomized_partition(lst: list, left: int, right: int) -> int:\n",
    "    i3 = random.randint(left, right)\n",
    "    lst[i3], lst[right] = lst[right], lst[i3]\n",
    "    return partition(lst, left, right)\n",
    "\n",
    "\n",
    "def randomized_quicksort(lst: list, left: int, right: int) -> None:\n",
    "    if left < right:\n",
    "        q = randomized_partition(lst, left, right)\n",
    "        randomized_quicksort(lst, left, q-1)\n",
    "        randomized_quicksort(lst, q+1, right)\n",
    "\n",
    "\n",
    "# 比较冒泡排序与快速排序\n",
    "if __name__ == '__main__':\n",
    "    times = 10000\n",
    "    arr1 = []\n",
    "    for i in range(times):\n",
    "        arr1.append(random.random())\n",
    "    arr2 = arr1.copy()\n",
    "    bubble_start = time.perf_counter()\n",
    "    arr1 = bubble_sort(arr1)\n",
    "    bubble_end = time.perf_counter()\n",
    "    print(\"冒泡排序时间消耗为: %.4fs\" % (bubble_end-bubble_start))\n",
    "\n",
    "    quick_start = time.perf_counter()\n",
    "    randomized_quicksort(arr2, 0, times-1)\n",
    "    quick_end = time.perf_counter()\n",
    "    print(\"随机化的快速排序时间消耗为: %.4fs\" % (quick_end-quick_start))\n"
   ],
   "metadata": {
    "collapsed": false
   }
  },
  {
   "cell_type": "markdown",
   "source": [
    "冒泡排序时间复杂度为O(n<sup>2</sup>), 而随机化的快速排序期望时间复杂度为O(nlgn), 所以预期随机化的快速排序优于冒泡排序\n",
    "而根据实验结果可知, 在数据量为10000的时候, 冒泡排序需要5秒左右, 而随机化的快速排序几乎0秒就完成。"
   ],
   "metadata": {
    "collapsed": false
   }
  }
 ],
 "metadata": {
  "kernelspec": {
   "display_name": "Python 3",
   "language": "python",
   "name": "python3"
  },
  "language_info": {
   "codemirror_mode": {
    "name": "ipython",
    "version": 2
   },
   "file_extension": ".py",
   "mimetype": "text/x-python",
   "name": "python",
   "nbconvert_exporter": "python",
   "pygments_lexer": "ipython2",
   "version": "2.7.6"
  }
 },
 "nbformat": 4,
 "nbformat_minor": 0
}
