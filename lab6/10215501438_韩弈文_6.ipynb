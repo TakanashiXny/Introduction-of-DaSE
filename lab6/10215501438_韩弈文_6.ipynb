{
 "cells": [
  {
   "cell_type": "markdown",
   "source": [
    "实验6-2的步骤2中介绍了读取整个文件的read()方法，请自己用记事本创建一个txt文件，里面写上几行内容，再编写程序，体会readline()和readlines()方法的作用。"
   ],
   "metadata": {
    "collapsed": false
   }
  },
  {
   "cell_type": "code",
   "execution_count": null,
   "outputs": [],
   "source": [
    "with open(r'E:\\学习\\数据科学与工程导论\\lab6\\实验用.txt', \"r\", encoding='utf-8') as f:\n",
    "    rl = f.readline()\n",
    "    f.seek(0)\n",
    "    rls = f.readlines()\n",
    "print(rl)\n",
    "print(rls)"
   ],
   "metadata": {
    "collapsed": false
   }
  },
  {
   "cell_type": "markdown",
   "source": [
    "stuGrade.csv文件中包含5位同学的学号、语文成绩、数学成绩和英语成绩，请先用记事本打开该文件，查看文件内容，然后编写Python程序，读取该文件，并计算出各科的平均成绩（保留2位小数）。"
   ],
   "metadata": {
    "collapsed": false
   }
  },
  {
   "cell_type": "code",
   "execution_count": null,
   "outputs": [],
   "source": [
    "import numpy as np\n",
    "\n",
    "\n",
    "with open(r'E:\\学习\\数据科学与工程导论\\lab6\\stuGrade.csv', 'r', encoding='utf-8') as f:\n",
    "    s = f.readline()\n",
    "    lst = f.readlines()  # 每一行为列表中的一个元素\n",
    "\n",
    "stu = []\n",
    "for i in lst:\n",
    "    i = i.strip('\\n')  # 去除最后的换行符\n",
    "    tmp = i.split(',')\n",
    "    for j in range(len(tmp)):\n",
    "        tmp[j] = int(tmp[j])  # 将每个元素转化为整型\n",
    "    stu.append(tmp)\n",
    "Mean = np.mean(stu, axis=0)\n",
    "\n",
    "\n",
    "ChineseMean = Mean[1]\n",
    "MathMean = Mean[2]\n",
    "EnglishMean = Mean[3]\n",
    "print(\"语文学科的平均成绩为: %.2f\" % ChineseMean)\n",
    "print(\"数学学科的平均成绩为: %.2f\" % MathMean)\n",
    "print(\"英语学科的平均成绩为: %.2f\" % EnglishMean)\n"
   ],
   "metadata": {
    "collapsed": false
   }
  },
  {
   "cell_type": "markdown",
   "source": [
    "请在第2题的代码继续编写Python程序，将以下内容写入my.txt文件中：\n",
    "\n",
    "第1行：你的学号和姓名\n",
    "\n",
    "第2行：3门课程的平均成绩，保留2位小数，以英文逗号间隔\n",
    "\n",
    "第3行：系统当前时间，格式例如2020-01-01 12:00:00\n",
    "\n",
    "第4行：两秒后的系统当前时间（利用sleep()方法）"
   ],
   "metadata": {
    "collapsed": false
   }
  },
  {
   "cell_type": "code",
   "execution_count": null,
   "outputs": [],
   "source": [
    "import numpy as np\n",
    "import time\n",
    "\n",
    "\n",
    "with open(r'E:\\学习\\数据科学与工程导论\\lab6\\stuGrade.csv', 'r', encoding='utf-8') as f:\n",
    "    s = f.readline()\n",
    "    lst = f.readlines()\n",
    "\n",
    "stu = []\n",
    "for i in lst:\n",
    "    i = i.strip('\\n')\n",
    "    tmp = i.split(',')\n",
    "    for j in range(len(tmp)):\n",
    "        tmp[j] = int(tmp[j])\n",
    "    stu.append(tmp)\n",
    "Mean = np.mean(stu, axis=0)\n",
    "\n",
    "\n",
    "ChineseMean = Mean[1]\n",
    "MathMean = Mean[2]\n",
    "EnglishMean = Mean[3]\n",
    "print(\"语文学科的平均成绩为: %.2f\" % ChineseMean)\n",
    "print(\"数学学科的平均成绩为: %.2f\" % MathMean)\n",
    "print(\"英语学科的平均成绩为: %.2f\" % EnglishMean)\n",
    "\n",
    "\n",
    "my_id = '10215501438'\n",
    "name = '韩弈文'\n",
    "\n",
    "with open(r'E:\\学习\\数据科学与工程导论\\lab6\\作业.txt', 'w', encoding='utf-8') as f2:\n",
    "    info1 = my_id + ' ' + name + '\\n'\n",
    "    f2.write(info1)\n",
    "    info2 = '{:.2f}, {:.2f}, {:.2f}'.format(ChineseMean, MathMean, EnglishMean) + '\\n'\n",
    "    f2.write(info2)\n",
    "    info3 = time.strftime(\"%Y-%m-%d %H:%M:%S\", time.localtime()) + '\\n'\n",
    "    f2.write(info3)\n",
    "    time.sleep(2)\n",
    "    info4 = time.strftime(\"%Y-%m-%d %H:%M:%S\", time.localtime())\n",
    "    f2.write(info4)\n",
    "\n",
    "\n",
    "print(\"over!\")\n",
    "\n"
   ],
   "metadata": {
    "collapsed": false
   }
  }
 ],
 "metadata": {
  "kernelspec": {
   "display_name": "Python 3",
   "language": "python",
   "name": "python3"
  },
  "language_info": {
   "codemirror_mode": {
    "name": "ipython",
    "version": 2
   },
   "file_extension": ".py",
   "mimetype": "text/x-python",
   "name": "python",
   "nbconvert_exporter": "python",
   "pygments_lexer": "ipython2",
   "version": "2.7.6"
  }
 },
 "nbformat": 4,
 "nbformat_minor": 0
}
