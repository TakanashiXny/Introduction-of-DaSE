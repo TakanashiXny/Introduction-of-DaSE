{
 "cells": [
  {
   "cell_type": "markdown",
   "source": [
    "1. 请编写一个函数，利用 辗转除2取余法（不要使用 int 的直接转换） 实现将我们常见的十进制IPv4\n",
    "地址例如203.179.25.37转换为32位长的二进制地址。\n"
   ],
   "metadata": {
    "collapsed": false
   }
  },
  {
   "cell_type": "code",
   "execution_count": null,
   "outputs": [],
   "source": [
    "def d_to_b(num: int) -> str:\n",
    "    result = \"\"\n",
    "    cnt = 0\n",
    "    while num > 0:\n",
    "        quotient = num // 2\n",
    "        remainder = num % 2\n",
    "        num = quotient\n",
    "        result = str(remainder) + result\n",
    "        cnt += 1\n",
    "    plus = \"0\" * (8 - cnt)\n",
    "    result = plus + result\n",
    "    return result\n",
    "\n",
    "\n",
    "if __name__ == '__main__':\n",
    "    ipv4 = \"203.179.25.37\"\n",
    "    lst = ipv4.split(\".\")\n",
    "    ans = \"\"\n",
    "    for i in lst:\n",
    "        ans += d_to_b(int(i))\n",
    "    print(ans)"
   ],
   "metadata": {
    "collapsed": false
   }
  },
  {
   "cell_type": "markdown",
   "source": [
    "2. 请创建一个类模拟实现数据结构中的“队列”，类中应包含入队、出队、取队首/队尾元素等方法，并\n",
    "进行测试。\n"
   ],
   "metadata": {
    "collapsed": false
   }
  },
  {
   "cell_type": "code",
   "execution_count": null,
   "outputs": [],
   "source": [
    "class queue:\n",
    "    def __init__(self):\n",
    "        self.lst = []\n",
    "        self.head = 0  # 第一个元素所在的位置\n",
    "        self.tail = 0  # 下一个元素插入的位置\n",
    "\n",
    "    def enqueue(self, num):\n",
    "        self.lst[self.tail] = num\n",
    "        self.tail = self.tail + 1\n",
    "\n",
    "    def dequeue(self):\n",
    "        try:\n",
    "            item = self.lst[self.head]\n",
    "            self.head = self.head + 1\n",
    "        except self.head == self.tail:  # 当头和尾相同时, 队列中无元素\n",
    "            print(\"这个队列是空的\")\n",
    "\n",
    "    def get_head(self):\n",
    "        try:\n",
    "            item = self.lst[self.head]\n",
    "            return item\n",
    "        except self.head == self.tail:\n",
    "            print(\"这个队列是空的\")\n",
    "\n",
    "    def get_tail(self):\n",
    "        try:\n",
    "            item = self.lst[self.tail-1]\n",
    "            return item\n",
    "        except self.head == self.tail:\n",
    "            print(\"这个队列是空的\")\n"
   ],
   "metadata": {
    "collapsed": false
   }
  },
  {
   "cell_type": "markdown",
   "source": [
    "3. 请在实验4-4的基础上实现二叉树的层序遍历的函数。"
   ],
   "metadata": {
    "collapsed": false
   }
  },
  {
   "cell_type": "code",
   "execution_count": null,
   "outputs": [],
   "source": [
    "import random\n",
    "\n",
    "\n",
    "class queue:\n",
    "    def __init__(self):\n",
    "        self.lst = []\n",
    "        self.head = 0\n",
    "        self.tail = 0\n",
    "\n",
    "    def enqueue(self, item):\n",
    "        self.lst.append(item)\n",
    "        self.tail = self.tail + 1\n",
    "\n",
    "    def dequeue(self):\n",
    "        try:\n",
    "            item = self.lst[self.head]\n",
    "            self.head = self.head + 1\n",
    "            return item\n",
    "        except self.head == self.tail:\n",
    "            print(\"这个队列是空的\")\n",
    "\n",
    "\n",
    "class node:\n",
    "    def __init__(self, num):\n",
    "        self.key = num\n",
    "        self.parent = None\n",
    "        self.left = None\n",
    "        self.right = None\n",
    "\n",
    "\n",
    "class tree:\n",
    "    def __init__(self):\n",
    "        self.root = None\n",
    "\n",
    "    def insert(self, Node: node):\n",
    "        y = None\n",
    "        x = self.root\n",
    "        while x is not None:\n",
    "            y = x\n",
    "            if Node.key < x.key:\n",
    "                x = x.left\n",
    "            else:\n",
    "                x = x.right\n",
    "        Node.parent = y\n",
    "        if y is None:\n",
    "            self.root = Node\n",
    "        elif Node.key < y.key:\n",
    "            y.left = Node\n",
    "        else:\n",
    "            y.right = Node\n",
    "\n",
    "\n",
    "if __name__ == '__main__':\n",
    "    times = 30 # 节点个数\n",
    "    Max = 100 # 节点关键字最大值\n",
    "    t = tree()\n",
    "    d = []\n",
    "    cnt = 0\n",
    "    for i in range(times): # 随机构建二叉树\n",
    "        digit = random.randint(0, Max)\n",
    "        d.append(digit)\n",
    "        n = node(digit)\n",
    "        t.insert(n)\n",
    "    q = queue()\n",
    "    q.enqueue(t.root)\n",
    "    cnt = 1\n",
    "    layer = 1\n",
    "    while not q.head == q.tail:\n",
    "        print(f\"第{layer}层结点: \", end=\" \")\n",
    "        tmp = 0\n",
    "        for i in range(cnt):\n",
    "            n = q.dequeue()\n",
    "            print(n.key, end=\" \") # 输出结点中的关键字\n",
    "            if n.left is not None:\n",
    "                q.enqueue(n.left)\n",
    "                tmp += 1\n",
    "            if n.right is not None:\n",
    "                q.enqueue(n.right)\n",
    "                tmp += 1\n",
    "            cnt = tmp\n",
    "        layer += 1\n",
    "        print()\n"
   ],
   "metadata": {
    "collapsed": false
   }
  },
  {
   "cell_type": "markdown",
   "source": [
    "4. 请在实验4-4的基础上实现输出叶子节点的函数。\n"
   ],
   "metadata": {
    "collapsed": false
   }
  },
  {
   "cell_type": "code",
   "execution_count": null,
   "outputs": [],
   "source": [
    "import random\n",
    "\n",
    "\n",
    "class queue:\n",
    "    def __init__(self):\n",
    "        self.lst = []\n",
    "        self.head = 0\n",
    "        self.tail = 0\n",
    "\n",
    "    def enqueue(self, item):\n",
    "        self.lst.append(item)\n",
    "        self.tail = self.tail + 1\n",
    "\n",
    "    def dequeue(self):\n",
    "        try:\n",
    "            item = self.lst[self.head]\n",
    "            self.head = self.head + 1\n",
    "            return item\n",
    "        except self.head == self.tail:\n",
    "            print(\"这个队列是空的\")\n",
    "\n",
    "\n",
    "class node:\n",
    "    def __init__(self, num):\n",
    "        self.key = num\n",
    "        self.parent = None\n",
    "        self.left = None\n",
    "        self.right = None\n",
    "\n",
    "\n",
    "class tree:\n",
    "    def __init__(self):\n",
    "        self.root = None\n",
    "\n",
    "    def insert(self, Node: node):\n",
    "        y = None\n",
    "        x = self.root\n",
    "        while x is not None:\n",
    "            y = x\n",
    "            if Node.key < x.key:\n",
    "                x = x.left\n",
    "            else:\n",
    "                x = x.right\n",
    "        Node.parent = y\n",
    "        if y is None:\n",
    "            self.root = Node\n",
    "        elif Node.key < y.key:\n",
    "            y.left = Node\n",
    "        else:\n",
    "            y.right = Node\n",
    "\n",
    "\n",
    "if __name__ == '__main__':\n",
    "    times = 10 # 树中共多少个元素\n",
    "    Max = 20 # 树中整数最大值, 便于观察代码是否正确\n",
    "    t = tree()\n",
    "    cnt = 0\n",
    "    for i in range(times):\n",
    "        digit = random.randint(0, Max)\n",
    "        n = node(digit)\n",
    "        t.insert(n)\n",
    "    q = queue()\n",
    "    q.enqueue(t.root)\n",
    "    result = []\n",
    "    while not q.head == q.tail:\n",
    "        tmp = 0\n",
    "        lst = []\n",
    "        n = q.dequeue()\n",
    "        lst.append(n.key)\n",
    "        if n.left is not None:\n",
    "            q.enqueue(n.left)\n",
    "        if n.right is not None:\n",
    "            q.enqueue(n.right)\n",
    "        if n.left is None and n.right is None: # 没有子节点的节点为叶节点\n",
    "            result.append(n)\n",
    "    print(\"叶子节点为: \", end=\" \")\n",
    "    for i in result:\n",
    "        print(i.key, end=\" \")\n"
   ],
   "metadata": {
    "collapsed": false
   }
  },
  {
   "cell_type": "markdown",
   "source": [
    "5. （选做） 目前中国内地三大运营商的手机号段分布如下：\n",
    "中国电信：133、153、173、177、180、181、189、191、193、199\n",
    "中国联通：130、131、132、155、156、166、175、176、185、186\n",
    "中国移动：134(但第4位不含9)、135、136、137、138、139、147、150、151、152、157、\n",
    "158、159、172、178、182、183、184、187、188、198\n",
    " 中国内地的手机号长度为11位，请设计一个正则表达式，并在Python中测试某个手机号是否为合法的\n",
    "手机号。"
   ],
   "metadata": {
    "collapsed": false
   }
  },
  {
   "cell_type": "code",
   "execution_count": null,
   "outputs": [],
   "source": [
    "import re\n",
    "\n",
    "p = '''(^(133|153|177|180|181|189|191|193|199|130|131|132|155|156|166|175|176|185|186|135|136|137|138|139|147|150|151|152\n",
    "    |157|158|159|172|178|182|183|184|187|188|198)\\\\d\\\\d\\\\d\\\\d\\\\d\\\\d\\\\d\\\\d$)|(^134+[0-8]+\\\\d\\\\d\\\\d\\\\d\\\\d\\\\d\\\\d$)'''\n",
    "s = input(\"请输入手机号: \")\n",
    "item = re.match(p, s)\n",
    "if item is not None:\n",
    "    print(True)\n",
    "else:\n",
    "    print(False)\n"
   ],
   "metadata": {
    "collapsed": false
   }
  }
 ],
 "metadata": {
  "kernelspec": {
   "display_name": "Python 3",
   "language": "python",
   "name": "python3"
  },
  "language_info": {
   "codemirror_mode": {
    "name": "ipython",
    "version": 2
   },
   "file_extension": ".py",
   "mimetype": "text/x-python",
   "name": "python",
   "nbconvert_exporter": "python",
   "pygments_lexer": "ipython2",
   "version": "2.7.6"
  }
 },
 "nbformat": 4,
 "nbformat_minor": 0
}
