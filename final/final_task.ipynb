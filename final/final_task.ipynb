{
 "cells": [
  {
   "cell_type": "markdown",
   "source": [
    "# 学生网课自适应性影响因素研究"
   ],
   "metadata": {
    "collapsed": false
   }
  },
  {
   "cell_type": "markdown",
   "source": [
    "## 摘要\n",
    "受疫情的影响，国内外多数地区线下产业都无法正常进行，这就使得网络上的工作，沟通交流显得尤为重要。与此同时，学生的学习也会受到一定程度的影响，他们被迫从线下学习转变到线上学习。而这样的转变较为突然，很多学生在改变学习方式后难以适应新的学习环境与方法。很多同学并为接触过线上的课程，所以在操作起来难免会存在问题。从线下学习完全转变到线上学习的过程是学生不断适应的过程，同时这也是他们必须经历的考验。但是，提到“适应”，就会存在适应的速度，而这个速度受到多方面因素的影响，其中有主观的，也有客观的。其中包括学生学习层次，年龄，是否接触过线上教学等等，也包括学习的网络环境，学习的时长等多方面客观因素。此研究选取Kaggle上的一个名为“students adaptability level online education”的数据集，包括了13个可能的影响因素，但是根据Kaggle上数据集作者的解释，存在部分数据意义不明，所以为了保证研究的有效性，删去了这些意义不明的项，而对于剩余的因素进行了全盘的研究，且为了解释部分原因，又使用了其它相关数据集。主数据集的数据均为孟加拉国的数据，无法直接运用到中国的实际情况，但是可以从孟加拉国的数据中得到一些规律，并且在未来，可以根据中国的国情分析这些规律在中国是否正确。如果可行，可以根据这一规律来改变现状，尽可能为学生创造良好的网课环境；如果不正确，则应重新判断中国的规律是如何的，并且对此将其应用到实际生活中。网课是一个国家的科技水平和教育水平的部分体现，是时代的产物，所以网课的发展是尤为重要的，所以本研究对于中国未来的发展是具有一定价值的。"
   ],
   "metadata": {
    "collapsed": false
   }
  },
  {
   "cell_type": "code",
   "execution_count": 1,
   "outputs": [],
   "source": [
    "import numpy as np\n",
    "import matplotlib.pyplot as plt\n",
    "import pandas as pd\n",
    "import seaborn as sns"
   ],
   "metadata": {
    "collapsed": false
   }
  },
  {
   "cell_type": "markdown",
   "source": [
    "# 1. 快速了解数据"
   ],
   "metadata": {
    "collapsed": false
   }
  },
  {
   "cell_type": "markdown",
   "source": [
    "## 第一步 用pandas加载csv文件\n",
    "此数据集来自于https://www.kaggle.com/datasets/mdmahmudulhasansuzan/students-adaptability-level-in-online-education"
   ],
   "metadata": {
    "collapsed": false
   }
  },
  {
   "cell_type": "code",
   "execution_count": 2,
   "outputs": [],
   "source": [
    "data = pd.read_csv('students_adaptability_level_online_education.csv', encoding='gb2312')"
   ],
   "metadata": {
    "collapsed": false
   }
  },
  {
   "cell_type": "markdown",
   "source": [
    "## 第二步 查看数据简单信息"
   ],
   "metadata": {
    "collapsed": false
   }
  },
  {
   "cell_type": "code",
   "execution_count": 3,
   "outputs": [
    {
     "data": {
      "text/plain": "               Num\ncount  1205.000000\nmean    603.000000\nstd     347.997845\nmin       1.000000\n25%     302.000000\n50%     603.000000\n75%     904.000000\nmax    1205.000000",
      "text/html": "<div>\n<style scoped>\n    .dataframe tbody tr th:only-of-type {\n        vertical-align: middle;\n    }\n\n    .dataframe tbody tr th {\n        vertical-align: top;\n    }\n\n    .dataframe thead th {\n        text-align: right;\n    }\n</style>\n<table border=\"1\" class=\"dataframe\">\n  <thead>\n    <tr style=\"text-align: right;\">\n      <th></th>\n      <th>Num</th>\n    </tr>\n  </thead>\n  <tbody>\n    <tr>\n      <th>count</th>\n      <td>1205.000000</td>\n    </tr>\n    <tr>\n      <th>mean</th>\n      <td>603.000000</td>\n    </tr>\n    <tr>\n      <th>std</th>\n      <td>347.997845</td>\n    </tr>\n    <tr>\n      <th>min</th>\n      <td>1.000000</td>\n    </tr>\n    <tr>\n      <th>25%</th>\n      <td>302.000000</td>\n    </tr>\n    <tr>\n      <th>50%</th>\n      <td>603.000000</td>\n    </tr>\n    <tr>\n      <th>75%</th>\n      <td>904.000000</td>\n    </tr>\n    <tr>\n      <th>max</th>\n      <td>1205.000000</td>\n    </tr>\n  </tbody>\n</table>\n</div>"
     },
     "execution_count": 3,
     "metadata": {},
     "output_type": "execute_result"
    }
   ],
   "source": [
    "data.describe()"
   ],
   "metadata": {
    "collapsed": false
   }
  },
  {
   "cell_type": "markdown",
   "source": [
    "通过查看数据集，发现除了第一列之外，所有数据均为字符串，所以使用describe方法只能看到第一列的相关信息"
   ],
   "metadata": {
    "collapsed": false
   }
  },
  {
   "cell_type": "code",
   "execution_count": 4,
   "outputs": [
    {
     "name": "stdout",
     "output_type": "stream",
     "text": [
      "<class 'pandas.core.frame.DataFrame'>\n",
      "RangeIndex: 1205 entries, 0 to 1204\n",
      "Data columns (total 15 columns):\n",
      " #   Column               Non-Null Count  Dtype \n",
      "---  ------               --------------  ----- \n",
      " 0   Num                  1205 non-null   int64 \n",
      " 1   Gender               1205 non-null   object\n",
      " 2   Age                  1205 non-null   object\n",
      " 3   Education Level      1205 non-null   object\n",
      " 4   Institution Type     1205 non-null   object\n",
      " 5   IT Student           1205 non-null   object\n",
      " 6   Location             1205 non-null   object\n",
      " 7   Load-shedding        1205 non-null   object\n",
      " 8   Financial Condition  1205 non-null   object\n",
      " 9   Internet Type        1205 non-null   object\n",
      " 10  Network Type         1205 non-null   object\n",
      " 11  Class Duration       1205 non-null   object\n",
      " 12  Self Lms             1205 non-null   object\n",
      " 13  Device               1205 non-null   object\n",
      " 14  Adaptivity Level     1205 non-null   object\n",
      "dtypes: int64(1), object(14)\n",
      "memory usage: 141.3+ KB\n"
     ]
    }
   ],
   "source": [
    "data.info()"
   ],
   "metadata": {
    "collapsed": false
   }
  },
  {
   "cell_type": "markdown",
   "source": [
    "使用info方法可以看到每一列的情况。可以看到，每一列数据均为非空，说明数据集完整。"
   ],
   "metadata": {
    "collapsed": false
   }
  },
  {
   "cell_type": "markdown",
   "source": [
    "## 第三步 数据清洗"
   ],
   "metadata": {
    "collapsed": false
   }
  },
  {
   "cell_type": "markdown",
   "source": [
    "通过对于数据集的观察，可以看到在\"Class Duration\"中，有部分数据为'0'，而根据Kaggle上作者对于这一列数据的描述可知，这一列的信息是“课程持续时长”，故在此次研究中，将课程时长为0的列删除。"
   ],
   "metadata": {
    "collapsed": false
   }
  },
  {
   "cell_type": "code",
   "execution_count": 5,
   "outputs": [
    {
     "data": {
      "text/plain": "       Num Gender     Age Education Level Institution Type IT Student  \\\n0        1    Boy   21-25      University   Non Government         No   \n1        2   Girl   21-25      University   Non Government         No   \n2        3   Girl   16-20         College       Government         No   \n3        4   Girl  11月15日          School   Non Government         No   \n5        6    Boy  11月15日          School   Non Government         No   \n...    ...    ...     ...             ...              ...        ...   \n1200  1201   Girl   16-20         College   Non Government         No   \n1201  1202   Girl   16-20         College   Non Government         No   \n1202  1203    Boy  11月15日          School   Non Government         No   \n1203  1204   Girl   16-20         College   Non Government         No   \n1204  1205   Girl  11月15日          School   Non Government         No   \n\n     Location Load-shedding Financial Condition Internet Type Network Type  \\\n0         Yes           Low                 Mid          Wifi           4G   \n1         Yes          High                 Mid   Mobile Data           4G   \n2         Yes           Low                 Mid          Wifi           4G   \n3         Yes           Low                 Mid   Mobile Data           4G   \n5         Yes           Low                Poor   Mobile Data           3G   \n...       ...           ...                 ...           ...          ...   \n1200      Yes           Low                 Mid          Wifi           4G   \n1201       No          High                 Mid          Wifi           4G   \n1202      Yes           Low                 Mid   Mobile Data           3G   \n1203       No           Low                 Mid          Wifi           4G   \n1204      Yes           Low                Poor   Mobile Data           3G   \n\n     Class Duration Self Lms  Device Adaptivity Level  \n0              3月6日       No     Tab         Moderate  \n1              1月3日      Yes  Mobile         Moderate  \n2              1月3日       No  Mobile         Moderate  \n3              1月3日       No  Mobile         Moderate  \n5              1月3日       No  Mobile              Low  \n...             ...      ...     ...              ...  \n1200           1月3日       No  Mobile              Low  \n1201           3月6日       No  Mobile         Moderate  \n1202           1月3日       No  Mobile         Moderate  \n1203           1月3日       No  Mobile              Low  \n1204           1月3日       No  Mobile         Moderate  \n\n[1051 rows x 15 columns]",
      "text/html": "<div>\n<style scoped>\n    .dataframe tbody tr th:only-of-type {\n        vertical-align: middle;\n    }\n\n    .dataframe tbody tr th {\n        vertical-align: top;\n    }\n\n    .dataframe thead th {\n        text-align: right;\n    }\n</style>\n<table border=\"1\" class=\"dataframe\">\n  <thead>\n    <tr style=\"text-align: right;\">\n      <th></th>\n      <th>Num</th>\n      <th>Gender</th>\n      <th>Age</th>\n      <th>Education Level</th>\n      <th>Institution Type</th>\n      <th>IT Student</th>\n      <th>Location</th>\n      <th>Load-shedding</th>\n      <th>Financial Condition</th>\n      <th>Internet Type</th>\n      <th>Network Type</th>\n      <th>Class Duration</th>\n      <th>Self Lms</th>\n      <th>Device</th>\n      <th>Adaptivity Level</th>\n    </tr>\n  </thead>\n  <tbody>\n    <tr>\n      <th>0</th>\n      <td>1</td>\n      <td>Boy</td>\n      <td>21-25</td>\n      <td>University</td>\n      <td>Non Government</td>\n      <td>No</td>\n      <td>Yes</td>\n      <td>Low</td>\n      <td>Mid</td>\n      <td>Wifi</td>\n      <td>4G</td>\n      <td>3月6日</td>\n      <td>No</td>\n      <td>Tab</td>\n      <td>Moderate</td>\n    </tr>\n    <tr>\n      <th>1</th>\n      <td>2</td>\n      <td>Girl</td>\n      <td>21-25</td>\n      <td>University</td>\n      <td>Non Government</td>\n      <td>No</td>\n      <td>Yes</td>\n      <td>High</td>\n      <td>Mid</td>\n      <td>Mobile Data</td>\n      <td>4G</td>\n      <td>1月3日</td>\n      <td>Yes</td>\n      <td>Mobile</td>\n      <td>Moderate</td>\n    </tr>\n    <tr>\n      <th>2</th>\n      <td>3</td>\n      <td>Girl</td>\n      <td>16-20</td>\n      <td>College</td>\n      <td>Government</td>\n      <td>No</td>\n      <td>Yes</td>\n      <td>Low</td>\n      <td>Mid</td>\n      <td>Wifi</td>\n      <td>4G</td>\n      <td>1月3日</td>\n      <td>No</td>\n      <td>Mobile</td>\n      <td>Moderate</td>\n    </tr>\n    <tr>\n      <th>3</th>\n      <td>4</td>\n      <td>Girl</td>\n      <td>11月15日</td>\n      <td>School</td>\n      <td>Non Government</td>\n      <td>No</td>\n      <td>Yes</td>\n      <td>Low</td>\n      <td>Mid</td>\n      <td>Mobile Data</td>\n      <td>4G</td>\n      <td>1月3日</td>\n      <td>No</td>\n      <td>Mobile</td>\n      <td>Moderate</td>\n    </tr>\n    <tr>\n      <th>5</th>\n      <td>6</td>\n      <td>Boy</td>\n      <td>11月15日</td>\n      <td>School</td>\n      <td>Non Government</td>\n      <td>No</td>\n      <td>Yes</td>\n      <td>Low</td>\n      <td>Poor</td>\n      <td>Mobile Data</td>\n      <td>3G</td>\n      <td>1月3日</td>\n      <td>No</td>\n      <td>Mobile</td>\n      <td>Low</td>\n    </tr>\n    <tr>\n      <th>...</th>\n      <td>...</td>\n      <td>...</td>\n      <td>...</td>\n      <td>...</td>\n      <td>...</td>\n      <td>...</td>\n      <td>...</td>\n      <td>...</td>\n      <td>...</td>\n      <td>...</td>\n      <td>...</td>\n      <td>...</td>\n      <td>...</td>\n      <td>...</td>\n      <td>...</td>\n    </tr>\n    <tr>\n      <th>1200</th>\n      <td>1201</td>\n      <td>Girl</td>\n      <td>16-20</td>\n      <td>College</td>\n      <td>Non Government</td>\n      <td>No</td>\n      <td>Yes</td>\n      <td>Low</td>\n      <td>Mid</td>\n      <td>Wifi</td>\n      <td>4G</td>\n      <td>1月3日</td>\n      <td>No</td>\n      <td>Mobile</td>\n      <td>Low</td>\n    </tr>\n    <tr>\n      <th>1201</th>\n      <td>1202</td>\n      <td>Girl</td>\n      <td>16-20</td>\n      <td>College</td>\n      <td>Non Government</td>\n      <td>No</td>\n      <td>No</td>\n      <td>High</td>\n      <td>Mid</td>\n      <td>Wifi</td>\n      <td>4G</td>\n      <td>3月6日</td>\n      <td>No</td>\n      <td>Mobile</td>\n      <td>Moderate</td>\n    </tr>\n    <tr>\n      <th>1202</th>\n      <td>1203</td>\n      <td>Boy</td>\n      <td>11月15日</td>\n      <td>School</td>\n      <td>Non Government</td>\n      <td>No</td>\n      <td>Yes</td>\n      <td>Low</td>\n      <td>Mid</td>\n      <td>Mobile Data</td>\n      <td>3G</td>\n      <td>1月3日</td>\n      <td>No</td>\n      <td>Mobile</td>\n      <td>Moderate</td>\n    </tr>\n    <tr>\n      <th>1203</th>\n      <td>1204</td>\n      <td>Girl</td>\n      <td>16-20</td>\n      <td>College</td>\n      <td>Non Government</td>\n      <td>No</td>\n      <td>No</td>\n      <td>Low</td>\n      <td>Mid</td>\n      <td>Wifi</td>\n      <td>4G</td>\n      <td>1月3日</td>\n      <td>No</td>\n      <td>Mobile</td>\n      <td>Low</td>\n    </tr>\n    <tr>\n      <th>1204</th>\n      <td>1205</td>\n      <td>Girl</td>\n      <td>11月15日</td>\n      <td>School</td>\n      <td>Non Government</td>\n      <td>No</td>\n      <td>Yes</td>\n      <td>Low</td>\n      <td>Poor</td>\n      <td>Mobile Data</td>\n      <td>3G</td>\n      <td>1月3日</td>\n      <td>No</td>\n      <td>Mobile</td>\n      <td>Moderate</td>\n    </tr>\n  </tbody>\n</table>\n<p>1051 rows × 15 columns</p>\n</div>"
     },
     "execution_count": 5,
     "metadata": {},
     "output_type": "execute_result"
    }
   ],
   "source": [
    "data = data.drop(data[data['Class Duration'] == '0'].index)\n",
    "data"
   ],
   "metadata": {
    "collapsed": false
   }
  },
  {
   "cell_type": "markdown",
   "source": [
    "继续对数据集进行观察，发现其中’Load-Shedding‘的列并没有合适的解释，如果对此项进行研究会引发一些歧义，故在研究前将其删除。同时，第一列编号对于研究也没有意义，故将其删除。"
   ],
   "metadata": {
    "collapsed": false
   }
  },
  {
   "cell_type": "code",
   "execution_count": 6,
   "outputs": [
    {
     "data": {
      "text/plain": "       Gender    Age Education Level Institution Type IT Student Location  \\\ncount    1051   1051            1051             1051       1051     1051   \nunique      2      6               3                2          2        2   \ntop       Boy  21-25          School   Non Government         No      Yes   \nfreq      576    328             466              777        763      866   \n\n       Financial Condition Internet Type Network Type Class Duration Self Lms  \\\ncount                 1051          1051         1051           1051     1051   \nunique                   3             2            3              2        2   \ntop                    Mid   Mobile Data           4G           1月3日       No   \nfreq                   764           586          666            840      843   \n\n        Device Adaptivity Level  \ncount     1051             1051  \nunique       3                3  \ntop     Mobile         Moderate  \nfreq       865              615  ",
      "text/html": "<div>\n<style scoped>\n    .dataframe tbody tr th:only-of-type {\n        vertical-align: middle;\n    }\n\n    .dataframe tbody tr th {\n        vertical-align: top;\n    }\n\n    .dataframe thead th {\n        text-align: right;\n    }\n</style>\n<table border=\"1\" class=\"dataframe\">\n  <thead>\n    <tr style=\"text-align: right;\">\n      <th></th>\n      <th>Gender</th>\n      <th>Age</th>\n      <th>Education Level</th>\n      <th>Institution Type</th>\n      <th>IT Student</th>\n      <th>Location</th>\n      <th>Financial Condition</th>\n      <th>Internet Type</th>\n      <th>Network Type</th>\n      <th>Class Duration</th>\n      <th>Self Lms</th>\n      <th>Device</th>\n      <th>Adaptivity Level</th>\n    </tr>\n  </thead>\n  <tbody>\n    <tr>\n      <th>count</th>\n      <td>1051</td>\n      <td>1051</td>\n      <td>1051</td>\n      <td>1051</td>\n      <td>1051</td>\n      <td>1051</td>\n      <td>1051</td>\n      <td>1051</td>\n      <td>1051</td>\n      <td>1051</td>\n      <td>1051</td>\n      <td>1051</td>\n      <td>1051</td>\n    </tr>\n    <tr>\n      <th>unique</th>\n      <td>2</td>\n      <td>6</td>\n      <td>3</td>\n      <td>2</td>\n      <td>2</td>\n      <td>2</td>\n      <td>3</td>\n      <td>2</td>\n      <td>3</td>\n      <td>2</td>\n      <td>2</td>\n      <td>3</td>\n      <td>3</td>\n    </tr>\n    <tr>\n      <th>top</th>\n      <td>Boy</td>\n      <td>21-25</td>\n      <td>School</td>\n      <td>Non Government</td>\n      <td>No</td>\n      <td>Yes</td>\n      <td>Mid</td>\n      <td>Mobile Data</td>\n      <td>4G</td>\n      <td>1月3日</td>\n      <td>No</td>\n      <td>Mobile</td>\n      <td>Moderate</td>\n    </tr>\n    <tr>\n      <th>freq</th>\n      <td>576</td>\n      <td>328</td>\n      <td>466</td>\n      <td>777</td>\n      <td>763</td>\n      <td>866</td>\n      <td>764</td>\n      <td>586</td>\n      <td>666</td>\n      <td>840</td>\n      <td>843</td>\n      <td>865</td>\n      <td>615</td>\n    </tr>\n  </tbody>\n</table>\n</div>"
     },
     "execution_count": 6,
     "metadata": {},
     "output_type": "execute_result"
    }
   ],
   "source": [
    "data = data.drop(columns=['Num', 'Load-shedding'])\n",
    "data.describe()"
   ],
   "metadata": {
    "collapsed": false
   }
  },
  {
   "cell_type": "markdown",
   "source": [
    "在导入数据集之后，我们发现其中有部分数据格式存在问题，通过与原数据集的对比，对数据集作如下的修改处理。"
   ],
   "metadata": {
    "collapsed": false
   }
  },
  {
   "cell_type": "code",
   "execution_count": 7,
   "outputs": [],
   "source": [
    "data.loc[data['Age'] == '11月15日', 'Age'] = '11-15'\n",
    "data.loc[data['Age'] == '6月10日', 'Age'] = '6-10'\n",
    "data.loc[data['Age'] == '1月5日', 'Age'] = '1-5'\n",
    "data.loc[data['Class Duration'] == '1月3日', 'Class Duration'] = '1-3'\n",
    "data.loc[data['Class Duration'] == '3月6日', 'Class Duration'] = '3-6'"
   ],
   "metadata": {
    "collapsed": false
   }
  },
  {
   "cell_type": "markdown",
   "source": [
    "## 第四步 检查字段取值范围"
   ],
   "metadata": {
    "collapsed": false
   }
  },
  {
   "cell_type": "markdown",
   "source": [
    "’Gender‘代表被调查者性别。"
   ],
   "metadata": {
    "collapsed": false
   }
  },
  {
   "cell_type": "code",
   "execution_count": 8,
   "outputs": [
    {
     "name": "stdout",
     "output_type": "stream",
     "text": [
      "['Boy' 'Girl']\n"
     ]
    }
   ],
   "source": [
    "print(data['Gender'].unique())"
   ],
   "metadata": {
    "collapsed": false
   }
  },
  {
   "cell_type": "markdown",
   "source": [
    "’Age'代表被调查者的年龄段。"
   ],
   "metadata": {
    "collapsed": false
   }
  },
  {
   "cell_type": "code",
   "execution_count": 9,
   "outputs": [
    {
     "name": "stdout",
     "output_type": "stream",
     "text": [
      "['21-25' '16-20' '11-15' '6-10' '1-5' '26-30']\n"
     ]
    }
   ],
   "source": [
    "print(data['Age'].unique())"
   ],
   "metadata": {
    "collapsed": false
   }
  },
  {
   "cell_type": "markdown",
   "source": [
    "’Education Level‘代表被调查者的学习层级。其中’University‘相当于国内的综合性大学，’College‘相当于国内的职业学校，’School‘相当于国内的中小学。"
   ],
   "metadata": {
    "collapsed": false
   }
  },
  {
   "cell_type": "code",
   "execution_count": 10,
   "outputs": [
    {
     "name": "stdout",
     "output_type": "stream",
     "text": [
      "['University' 'College' 'School']\n"
     ]
    }
   ],
   "source": [
    "print(data['Education Level'].unique())"
   ],
   "metadata": {
    "collapsed": false
   }
  },
  {
   "cell_type": "markdown",
   "source": [
    "’Institution Type‘代表被调查者所在学校性质，包括私立与公立。"
   ],
   "metadata": {
    "collapsed": false
   }
  },
  {
   "cell_type": "code",
   "execution_count": 11,
   "outputs": [
    {
     "name": "stdout",
     "output_type": "stream",
     "text": [
      "['Non Government' 'Government']\n"
     ]
    }
   ],
   "source": [
    "print(data['Institution Type'].unique())"
   ],
   "metadata": {
    "collapsed": false
   }
  },
  {
   "cell_type": "markdown",
   "source": [
    "’IT Student‘显示被调查者是否为计算机相关学生，‘Yes’代表计算机相关学生"
   ],
   "metadata": {
    "collapsed": false
   }
  },
  {
   "cell_type": "code",
   "execution_count": 12,
   "outputs": [
    {
     "name": "stdout",
     "output_type": "stream",
     "text": [
      "['No' 'Yes']\n"
     ]
    }
   ],
   "source": [
    "print(data['IT Student'].unique())"
   ],
   "metadata": {
    "collapsed": false
   }
  },
  {
   "cell_type": "markdown",
   "source": [
    "’Location‘显示被调查者是城市学生/乡村学生，’Yes'代表城市学生。"
   ],
   "metadata": {
    "collapsed": false
   }
  },
  {
   "cell_type": "code",
   "execution_count": 13,
   "outputs": [
    {
     "name": "stdout",
     "output_type": "stream",
     "text": [
      "['Yes' 'No']\n"
     ]
    }
   ],
   "source": [
    "print(data['Location'].unique())"
   ],
   "metadata": {
    "collapsed": false
   }
  },
  {
   "cell_type": "markdown",
   "source": [
    "‘Financial Condition’显示被调查者家庭经济情况，包括贫困，中等，富裕。"
   ],
   "metadata": {
    "collapsed": false
   }
  },
  {
   "cell_type": "code",
   "execution_count": 14,
   "outputs": [
    {
     "name": "stdout",
     "output_type": "stream",
     "text": [
      "['Mid' 'Poor' 'Rich']\n"
     ]
    }
   ],
   "source": [
    "print(data['Financial Condition'].unique())"
   ],
   "metadata": {
    "collapsed": false
   }
  },
  {
   "cell_type": "markdown",
   "source": [
    "’Internet Type‘显示被调查者上课时网络连接形式，包括wifi和移动网络。"
   ],
   "metadata": {
    "collapsed": false
   }
  },
  {
   "cell_type": "code",
   "execution_count": 15,
   "outputs": [
    {
     "name": "stdout",
     "output_type": "stream",
     "text": [
      "['Wifi' 'Mobile Data']\n"
     ]
    }
   ],
   "source": [
    "print(data['Internet Type'].unique())"
   ],
   "metadata": {
    "collapsed": false
   }
  },
  {
   "cell_type": "markdown",
   "source": [
    "’Network Type‘显示网络连接类型，包括2G,3G,4G."
   ],
   "metadata": {
    "collapsed": false
   }
  },
  {
   "cell_type": "code",
   "execution_count": 16,
   "outputs": [
    {
     "name": "stdout",
     "output_type": "stream",
     "text": [
      "['4G' '3G' '2G']\n"
     ]
    }
   ],
   "source": [
    "print(data['Network Type'].unique())"
   ],
   "metadata": {
    "collapsed": false
   }
  },
  {
   "cell_type": "markdown",
   "source": [
    "’Class Duration‘显示被调查者上课时长，包括1-3小时和3-6小时。"
   ],
   "metadata": {
    "collapsed": false
   }
  },
  {
   "cell_type": "code",
   "execution_count": 17,
   "outputs": [
    {
     "name": "stdout",
     "output_type": "stream",
     "text": [
      "['3-6' '1-3']\n"
     ]
    }
   ],
   "source": [
    "print(data['Class Duration'].unique())"
   ],
   "metadata": {
    "collapsed": false
   }
  },
  {
   "cell_type": "markdown",
   "source": [
    "’Lms‘全称为Learning Management System. 此项表示学校是否有相应的系统。"
   ],
   "metadata": {
    "collapsed": false
   }
  },
  {
   "cell_type": "code",
   "execution_count": 18,
   "outputs": [
    {
     "name": "stdout",
     "output_type": "stream",
     "text": [
      "['No' 'Yes']\n"
     ]
    }
   ],
   "source": [
    "print(data['Self Lms'].unique())"
   ],
   "metadata": {
    "collapsed": false
   }
  },
  {
   "cell_type": "markdown",
   "source": [
    "’Device‘代表被调查者经常使用的网课设备。"
   ],
   "metadata": {
    "collapsed": false
   }
  },
  {
   "cell_type": "code",
   "execution_count": 19,
   "outputs": [
    {
     "name": "stdout",
     "output_type": "stream",
     "text": [
      "['Tab' 'Mobile' 'Computer']\n"
     ]
    }
   ],
   "source": [
    "print(data['Device'].unique())"
   ],
   "metadata": {
    "collapsed": false
   }
  },
  {
   "cell_type": "markdown",
   "source": [
    "’Adaptivity Level‘代表学生的网课自适应性。而这一适应性为学生主观想法，而此处主观想法是可以接受的，如果学生不满意当前的网课环境，那么他的课堂表现或多或少都会受到一些负面的影响，对于他学业上的成绩也会有一定的负面影响。\n",
    "此处等级分为较低，中等，较高。"
   ],
   "metadata": {
    "collapsed": false
   }
  },
  {
   "cell_type": "code",
   "execution_count": 20,
   "outputs": [
    {
     "name": "stdout",
     "output_type": "stream",
     "text": [
      "['Moderate' 'Low' 'High']\n"
     ]
    }
   ],
   "source": [
    "print(data['Adaptivity Level'].unique())"
   ],
   "metadata": {
    "collapsed": false
   }
  },
  {
   "cell_type": "markdown",
   "source": [
    "在分析数据的过程中，我们希望量化数据，这样能够做计算（例如相关系数）。所以此段代码将所有字符串数据转变为整型。"
   ],
   "metadata": {
    "collapsed": false
   }
  },
  {
   "cell_type": "code",
   "execution_count": 21,
   "outputs": [
    {
     "data": {
      "text/plain": "        Gender   Age  Education Level  Institution Type  IT Student  Location  \\\ncount     1051  1051             1051              1051        1051      1051   \nunique       2     6                3                 2           2         2   \ntop          1     5                1                 2           1         2   \nfreq       576   328              466               777         763       866   \n\n        Financial Condition  Internet Type  Network Type  Class Duration  \\\ncount                  1051           1051          1051            1051   \nunique                    3              2             3               2   \ntop                       2              1             3               1   \nfreq                    764            586           666             840   \n\n        Self Lms  Device  Adaptivity Level  \ncount       1051    1051              1051  \nunique         2       3                 3  \ntop            1       2                 2  \nfreq         843     865               615  ",
      "text/html": "<div>\n<style scoped>\n    .dataframe tbody tr th:only-of-type {\n        vertical-align: middle;\n    }\n\n    .dataframe tbody tr th {\n        vertical-align: top;\n    }\n\n    .dataframe thead th {\n        text-align: right;\n    }\n</style>\n<table border=\"1\" class=\"dataframe\">\n  <thead>\n    <tr style=\"text-align: right;\">\n      <th></th>\n      <th>Gender</th>\n      <th>Age</th>\n      <th>Education Level</th>\n      <th>Institution Type</th>\n      <th>IT Student</th>\n      <th>Location</th>\n      <th>Financial Condition</th>\n      <th>Internet Type</th>\n      <th>Network Type</th>\n      <th>Class Duration</th>\n      <th>Self Lms</th>\n      <th>Device</th>\n      <th>Adaptivity Level</th>\n    </tr>\n  </thead>\n  <tbody>\n    <tr>\n      <th>count</th>\n      <td>1051</td>\n      <td>1051</td>\n      <td>1051</td>\n      <td>1051</td>\n      <td>1051</td>\n      <td>1051</td>\n      <td>1051</td>\n      <td>1051</td>\n      <td>1051</td>\n      <td>1051</td>\n      <td>1051</td>\n      <td>1051</td>\n      <td>1051</td>\n    </tr>\n    <tr>\n      <th>unique</th>\n      <td>2</td>\n      <td>6</td>\n      <td>3</td>\n      <td>2</td>\n      <td>2</td>\n      <td>2</td>\n      <td>3</td>\n      <td>2</td>\n      <td>3</td>\n      <td>2</td>\n      <td>2</td>\n      <td>3</td>\n      <td>3</td>\n    </tr>\n    <tr>\n      <th>top</th>\n      <td>1</td>\n      <td>5</td>\n      <td>1</td>\n      <td>2</td>\n      <td>1</td>\n      <td>2</td>\n      <td>2</td>\n      <td>1</td>\n      <td>3</td>\n      <td>1</td>\n      <td>1</td>\n      <td>2</td>\n      <td>2</td>\n    </tr>\n    <tr>\n      <th>freq</th>\n      <td>576</td>\n      <td>328</td>\n      <td>466</td>\n      <td>777</td>\n      <td>763</td>\n      <td>866</td>\n      <td>764</td>\n      <td>586</td>\n      <td>666</td>\n      <td>840</td>\n      <td>843</td>\n      <td>865</td>\n      <td>615</td>\n    </tr>\n  </tbody>\n</table>\n</div>"
     },
     "execution_count": 21,
     "metadata": {},
     "output_type": "execute_result"
    }
   ],
   "source": [
    "data2 = data.copy()\n",
    "\n",
    "\n",
    "# 将所有需要转变的列罗列出来\n",
    "gender = ['Boy', 'Girl']\n",
    "# Boy->1, Girl->2\n",
    "age = ['1-5', '6-10', '11-15', '16-20', '21-25', '26-30']\n",
    "# 1-5->1, 6-10->2, 11-15->3, 16-20->4, 21-25->5, 26-30->6\n",
    "education = ['School', 'College', 'University']\n",
    "# School->1, College->2, University->3\n",
    "institution = ['Government', 'Non Government']\n",
    "# Government->1, Non Government->2\n",
    "it = ['No', 'Yes']\n",
    "# No->1, Yes->2\n",
    "location = ['No', 'Yes']\n",
    "# No->1, Yes->2\n",
    "finance = ['Poor', 'Mid', 'Rich']\n",
    "# Poor->1, Mid->2, Rich->3\n",
    "internet = ['Mobile Data', 'Wifi']\n",
    "# Mobile Data->1, Wifi->2\n",
    "network = ['2G', '3G', '4G']\n",
    "# 2G->1, 3G->2, 4G->3\n",
    "duration = ['1-3', '3-6']\n",
    "# 1-3->1, 3-6->2\n",
    "lms = ['No', 'Yes']\n",
    "# No->1, Yes->2\n",
    "device = ['Computer', 'Mobile', 'Tab']\n",
    "# Computer->1, Mobile->2, Tab->3\n",
    "adpt = ['High', 'Moderate', 'Low']\n",
    "# High->1, Moderate->2, Low->3\n",
    "llst = ['Gender', 'Age', 'Education Level', 'Institution Type', 'IT Student', 'Location', 'Financial Condition', 'Internet Type', 'Network Type', 'Class Duration', 'Self Lms', 'Device', 'Adaptivity Level']\n",
    "lst = [gender, age, education, institution, it, location, finance, internet, network, duration, lms, device, adpt]\n",
    "\n",
    "\n",
    "for x, y in zip(llst, lst):\n",
    "    for i in range(len(y)):\n",
    "        data2.loc[data2[x] == y[i], x] = i+1\n",
    "\n",
    "\n",
    "data2.describe()\n"
   ],
   "metadata": {
    "collapsed": false
   }
  },
  {
   "cell_type": "markdown",
   "source": [
    "接下来，尝试使用相关系数来进行分析"
   ],
   "metadata": {
    "collapsed": false
   }
  },
  {
   "cell_type": "code",
   "execution_count": 22,
   "outputs": [
    {
     "data": {
      "text/plain": "<AxesSubplot:>"
     },
     "execution_count": 22,
     "metadata": {},
     "output_type": "execute_result"
    },
    {
     "data": {
      "text/plain": "<Figure size 432x288 with 2 Axes>",
      "image/png": "[encoded data removed]"
     },
     "metadata": {},
     "output_type": "display_data"
    }
   ],
   "source": [
    "sns.heatmap(data2.astype(int).corr())"
   ],
   "metadata": {
    "collapsed": false
   }
  },
  {
   "cell_type": "markdown",
   "source": [
    "我们可以看到，除了对角线以外，几乎所有格子都为浅色，说明相关系数极低。一方面可能因为这些变量之间的关联较小，但另一方面，这里使用相关系数并不合适。相关系数研究的是两个变量之间的线性相关性，但是此处每一个变量都只有2至3种选项，所以变量之间几乎无法构成线性关系，所以相关系数较低。\n",
    "\n",
    "所以接下来，我们将分别研究各个变量，来得出最终的结果。"
   ],
   "metadata": {
    "collapsed": false
   }
  },
  {
   "cell_type": "markdown",
   "source": [
    "# 2. 数据分析"
   ],
   "metadata": {
    "collapsed": false
   }
  },
  {
   "cell_type": "markdown",
   "source": [
    "## (1) 不同因素的数据分布情况"
   ],
   "metadata": {
    "collapsed": false
   }
  },
  {
   "cell_type": "markdown",
   "source": [
    "学生对网课自适应性分布"
   ],
   "metadata": {
    "collapsed": false
   }
  },
  {
   "cell_type": "code",
   "execution_count": 23,
   "outputs": [
    {
     "name": "stdout",
     "output_type": "stream",
     "text": [
      "Adaptivity Level\n",
      "High        100\n",
      "Moderate    615\n",
      "Low         336\n",
      "Name: Adaptivity Level, dtype: int64\n"
     ]
    }
   ],
   "source": [
    "Adaptivity = data.groupby('Adaptivity Level')['Adaptivity Level'].count()\n",
    "Adaptivity = Adaptivity.reindex(adpt)\n",
    "print(Adaptivity)"
   ],
   "metadata": {
    "collapsed": false
   }
  },
  {
   "cell_type": "markdown",
   "source": [
    "总体来说，被调查者对自己的网课适应程度的满意程度中等偏下。大部分为中等水平，较符合正态分布。"
   ],
   "metadata": {
    "collapsed": false
   }
  },
  {
   "cell_type": "markdown",
   "source": [
    "学生性别分布"
   ],
   "metadata": {
    "collapsed": false
   }
  },
  {
   "cell_type": "code",
   "execution_count": 24,
   "outputs": [
    {
     "name": "stdout",
     "output_type": "stream",
     "text": [
      "Gender\n",
      "Boy     576\n",
      "Girl    475\n",
      "Name: Gender, dtype: int64\n"
     ]
    }
   ],
   "source": [
    "Gender = data.groupby('Gender')['Gender'].count()\n",
    "print(Gender)"
   ],
   "metadata": {
    "collapsed": false
   }
  },
  {
   "cell_type": "markdown",
   "source": [
    "在被调查者中，男性居多。"
   ],
   "metadata": {
    "collapsed": false
   }
  },
  {
   "cell_type": "markdown",
   "source": [
    "学生年龄分布"
   ],
   "metadata": {
    "collapsed": false
   }
  },
  {
   "cell_type": "code",
   "execution_count": 25,
   "outputs": [
    {
     "name": "stdout",
     "output_type": "stream",
     "text": [
      "Age\n",
      "1-5       78\n",
      "11-15    319\n",
      "16-20    244\n",
      "21-25    328\n",
      "26-30     45\n",
      "6-10      37\n",
      "Name: Age, dtype: int64\n"
     ]
    }
   ],
   "source": [
    "Age = data.groupby('Age')['Age'].count()\n",
    "print(Age)"
   ],
   "metadata": {
    "collapsed": false
   }
  },
  {
   "cell_type": "markdown",
   "source": [
    "学生教育水平分布"
   ],
   "metadata": {
    "collapsed": false
   }
  },
  {
   "cell_type": "code",
   "execution_count": 26,
   "outputs": [
    {
     "name": "stdout",
     "output_type": "stream",
     "text": [
      "Education Level\n",
      "College       188\n",
      "School        466\n",
      "University    397\n",
      "Name: Education Level, dtype: int64\n"
     ]
    }
   ],
   "source": [
    "Education = data.groupby('Education Level')['Education Level'].count()\n",
    "print(Education)"
   ],
   "metadata": {
    "collapsed": false
   }
  },
  {
   "cell_type": "markdown",
   "source": [
    "被调查者大多数为中小学学生或综合性大学学生。"
   ],
   "metadata": {
    "collapsed": false
   }
  },
  {
   "cell_type": "markdown",
   "source": [
    "所在学校是否属于政府"
   ],
   "metadata": {
    "collapsed": false
   }
  },
  {
   "cell_type": "code",
   "execution_count": 27,
   "outputs": [
    {
     "name": "stdout",
     "output_type": "stream",
     "text": [
      "Institution Type\n",
      "Government        274\n",
      "Non Government    777\n",
      "Name: Institution Type, dtype: int64\n"
     ]
    }
   ],
   "source": [
    "Government = data.groupby('Institution Type')['Institution Type'].count()\n",
    "print(Government)"
   ],
   "metadata": {
    "collapsed": false
   }
  },
  {
   "cell_type": "markdown",
   "source": [
    "大多数被调查者来自于非公立学校。"
   ],
   "metadata": {
    "collapsed": false
   }
  },
  {
   "cell_type": "markdown",
   "source": [
    "学生是否为IT学生"
   ],
   "metadata": {
    "collapsed": false
   }
  },
  {
   "cell_type": "code",
   "execution_count": 28,
   "outputs": [
    {
     "name": "stdout",
     "output_type": "stream",
     "text": [
      "IT Student\n",
      "No     763\n",
      "Yes    288\n",
      "Name: IT Student, dtype: int64\n"
     ]
    }
   ],
   "source": [
    "IT = data.groupby('IT Student')['IT Student'].count()\n",
    "print(IT)"
   ],
   "metadata": {
    "collapsed": false
   }
  },
  {
   "cell_type": "markdown",
   "source": [
    "大多数被调查者非计算机相关学生。"
   ],
   "metadata": {
    "collapsed": false
   }
  },
  {
   "cell_type": "markdown",
   "source": [
    "学生居住处分布(Yes指城市)"
   ],
   "metadata": {
    "collapsed": false
   }
  },
  {
   "cell_type": "code",
   "execution_count": 29,
   "outputs": [
    {
     "name": "stdout",
     "output_type": "stream",
     "text": [
      "Location\n",
      "No     185\n",
      "Yes    866\n",
      "Name: Location, dtype: int64\n"
     ]
    }
   ],
   "source": [
    "Town = data.groupby('Location')['Location'].count()\n",
    "print(Town)"
   ],
   "metadata": {
    "collapsed": false
   }
  },
  {
   "cell_type": "markdown",
   "source": [
    "大多数被调查者为城市学生。"
   ],
   "metadata": {
    "collapsed": false
   }
  },
  {
   "cell_type": "markdown",
   "source": [
    "学生经济状况分布"
   ],
   "metadata": {
    "collapsed": false
   }
  },
  {
   "cell_type": "code",
   "execution_count": 30,
   "outputs": [
    {
     "name": "stdout",
     "output_type": "stream",
     "text": [
      "Financial Condition\n",
      "Mid     764\n",
      "Poor    204\n",
      "Rich     83\n",
      "Name: Financial Condition, dtype: int64\n"
     ]
    }
   ],
   "source": [
    "Finance = data.groupby('Financial Condition')['Financial Condition'].count()\n",
    "print(Finance)"
   ],
   "metadata": {
    "collapsed": false
   }
  },
  {
   "cell_type": "markdown",
   "source": [
    "大多数被调查者经济水平为中等，较多被调查者为穷困。"
   ],
   "metadata": {
    "collapsed": false
   }
  },
  {
   "cell_type": "markdown",
   "source": [
    "学生上课网络类型分布"
   ],
   "metadata": {
    "collapsed": false
   }
  },
  {
   "cell_type": "code",
   "execution_count": 31,
   "outputs": [
    {
     "name": "stdout",
     "output_type": "stream",
     "text": [
      "Internet Type\n",
      "Mobile Data    586\n",
      "Wifi           465\n",
      "Name: Internet Type, dtype: int64\n"
     ]
    }
   ],
   "source": [
    "Internet = data.groupby('Internet Type')['Internet Type'].count()\n",
    "print(Internet)"
   ],
   "metadata": {
    "collapsed": false
   }
  },
  {
   "cell_type": "markdown",
   "source": [
    "较多被调查者使用移动网络上课。"
   ],
   "metadata": {
    "collapsed": false
   }
  },
  {
   "cell_type": "markdown",
   "source": [
    "学生网络连接类型分布"
   ],
   "metadata": {
    "collapsed": false
   }
  },
  {
   "cell_type": "code",
   "execution_count": 32,
   "outputs": [
    {
     "name": "stdout",
     "output_type": "stream",
     "text": [
      "Network Type\n",
      "2G     17\n",
      "3G    368\n",
      "4G    666\n",
      "Name: Network Type, dtype: int64\n"
     ]
    }
   ],
   "source": [
    "Network = data.groupby('Network Type')['Network Type'].count()\n",
    "print(Network)"
   ],
   "metadata": {
    "collapsed": false
   }
  },
  {
   "cell_type": "markdown",
   "source": [
    "较多被调查者使用4G."
   ],
   "metadata": {
    "collapsed": false
   }
  },
  {
   "cell_type": "markdown",
   "source": [
    "课程时长分布"
   ],
   "metadata": {
    "collapsed": false
   }
  },
  {
   "cell_type": "code",
   "execution_count": 33,
   "outputs": [
    {
     "name": "stdout",
     "output_type": "stream",
     "text": [
      "Class Duration\n",
      "1-3    840\n",
      "3-6    211\n",
      "Name: Class Duration, dtype: int64\n"
     ]
    }
   ],
   "source": [
    "Duration = data.groupby('Class Duration')['Class Duration'].count()\n",
    "print(Duration)"
   ],
   "metadata": {
    "collapsed": false
   }
  },
  {
   "cell_type": "markdown",
   "source": [
    "较多被调查者课程时长为1-3小时。"
   ],
   "metadata": {
    "collapsed": false
   }
  },
  {
   "cell_type": "markdown",
   "source": [
    "学校是否有自己的学习系统"
   ],
   "metadata": {
    "collapsed": false
   }
  },
  {
   "cell_type": "code",
   "execution_count": 34,
   "outputs": [
    {
     "name": "stdout",
     "output_type": "stream",
     "text": [
      "Self Lms\n",
      "No     843\n",
      "Yes    208\n",
      "Name: Self Lms, dtype: int64\n"
     ]
    }
   ],
   "source": [
    "LMS = data.groupby('Self Lms')['Self Lms'].count()\n",
    "print(LMS)"
   ],
   "metadata": {
    "collapsed": false
   }
  },
  {
   "cell_type": "markdown",
   "source": [
    "较多被调查者的学校没有学习系统。"
   ],
   "metadata": {
    "collapsed": false
   }
  },
  {
   "cell_type": "markdown",
   "source": [
    "学生使用的设备分布"
   ],
   "metadata": {
    "collapsed": false
   }
  },
  {
   "cell_type": "code",
   "execution_count": 35,
   "outputs": [
    {
     "name": "stdout",
     "output_type": "stream",
     "text": [
      "Device\n",
      "Computer    156\n",
      "Mobile      865\n",
      "Tab          30\n",
      "Name: Device, dtype: int64\n"
     ]
    }
   ],
   "source": [
    "Device = data.groupby('Device')['Device'].count()\n",
    "print(Device)"
   ],
   "metadata": {
    "collapsed": false
   }
  },
  {
   "cell_type": "markdown",
   "source": [
    "大多数被调查者使用移动设备。"
   ],
   "metadata": {
    "collapsed": false
   }
  },
  {
   "cell_type": "markdown",
   "source": [
    "## (2) 学生自适应性与不同因素之间的关系"
   ],
   "metadata": {
    "collapsed": false
   }
  },
  {
   "cell_type": "markdown",
   "source": [
    "接下来所有数据都将按照自适应性程度从高到低进行排序。"
   ],
   "metadata": {
    "collapsed": false
   }
  },
  {
   "cell_type": "code",
   "execution_count": 36,
   "outputs": [],
   "source": [
    "Order = ['High', 'Moderate', 'Low']"
   ],
   "metadata": {
    "collapsed": false
   }
  },
  {
   "cell_type": "markdown",
   "source": [
    "自适应程度与性别的关系"
   ],
   "metadata": {
    "collapsed": false
   }
  },
  {
   "cell_type": "code",
   "execution_count": 37,
   "outputs": [
    {
     "name": "stdout",
     "output_type": "stream",
     "text": [
      "Gender  Adaptivity Level\n",
      "Boy     High                 71\n",
      "        Moderate            337\n",
      "        Low                 168\n",
      "Girl    High                 29\n",
      "        Moderate            278\n",
      "        Low                 168\n",
      "Name: Adaptivity Level, dtype: int64\n"
     ]
    }
   ],
   "source": [
    "# Gender_Adapt = data.loc[data['Adaptivity Level'] == 'High'].groupby('Gender')['Adaptivity Level'].count()\n",
    "Gender_Adapt = data.groupby(['Gender', 'Adaptivity Level'])['Adaptivity Level'].count()\n",
    "Gender_Adapt = Gender_Adapt.reindex(Order, level='Adaptivity Level')\n",
    "print(Gender_Adapt)"
   ],
   "metadata": {
    "collapsed": false
   }
  },
  {
   "cell_type": "markdown",
   "source": [
    "自适应程度与年龄的关系"
   ],
   "metadata": {
    "collapsed": false
   }
  },
  {
   "cell_type": "code",
   "execution_count": 38,
   "outputs": [
    {
     "name": "stdout",
     "output_type": "stream",
     "text": [
      "Age    Adaptivity Level\n",
      "1-5    Moderate             64\n",
      "       Low                  14\n",
      "6-10   High                 17\n",
      "       Moderate             10\n",
      "       Low                  10\n",
      "11-15  High                 28\n",
      "       Moderate            205\n",
      "       Low                  86\n",
      "16-20  High                  5\n",
      "       Moderate            127\n",
      "       Low                 112\n",
      "21-25  High                 38\n",
      "       Moderate            189\n",
      "       Low                 101\n",
      "26-30  High                 12\n",
      "       Moderate             20\n",
      "       Low                  13\n",
      "Name: Adaptivity Level, dtype: int64\n"
     ]
    }
   ],
   "source": [
    "Age_Adapt = data.groupby(['Age', 'Adaptivity Level'])['Adaptivity Level'].count()\n",
    "Age_Adapt = Age_Adapt.reindex(Order, level='Adaptivity Level')\n",
    "Age_Adapt = Age_Adapt.reindex(age, level='Age')\n",
    "print(Age_Adapt)"
   ],
   "metadata": {
    "collapsed": false
   }
  },
  {
   "cell_type": "markdown",
   "source": [
    "自适应程度与教育程度的关系"
   ],
   "metadata": {
    "collapsed": false
   }
  },
  {
   "cell_type": "code",
   "execution_count": 39,
   "outputs": [
    {
     "name": "stdout",
     "output_type": "stream",
     "text": [
      "Education Level  Adaptivity Level\n",
      "School           High                 47\n",
      "                 Moderate            301\n",
      "                 Low                 118\n",
      "College          High                  3\n",
      "                 Moderate             94\n",
      "                 Low                  91\n",
      "University       High                 50\n",
      "                 Moderate            220\n",
      "                 Low                 127\n",
      "Name: Adaptivity Level, dtype: int64\n"
     ]
    }
   ],
   "source": [
    "Education_Adapt = data.groupby(['Education Level', 'Adaptivity Level'])['Adaptivity Level'].count()\n",
    "Education_Adapt = Education_Adapt.reindex(Order, level='Adaptivity Level')\n",
    "Education_Adapt = Education_Adapt.reindex(education, level='Education Level')\n",
    "print(Education_Adapt)"
   ],
   "metadata": {
    "collapsed": false
   }
  },
  {
   "cell_type": "markdown",
   "source": [
    "自适应程度与学院性质的关系"
   ],
   "metadata": {
    "collapsed": false
   }
  },
  {
   "cell_type": "code",
   "execution_count": 40,
   "outputs": [
    {
     "name": "stdout",
     "output_type": "stream",
     "text": [
      "Institution Type  Adaptivity Level\n",
      "Government        High                 20\n",
      "                  Moderate            122\n",
      "                  Low                 132\n",
      "Non Government    High                 80\n",
      "                  Moderate            493\n",
      "                  Low                 204\n",
      "Name: Adaptivity Level, dtype: int64\n"
     ]
    }
   ],
   "source": [
    "Government_Adapt = data.groupby(['Institution Type', 'Adaptivity Level'])['Adaptivity Level'].count()\n",
    "Government_Adapt = Government_Adapt.reindex(Order, level='Adaptivity Level')\n",
    "print(Government_Adapt)"
   ],
   "metadata": {
    "collapsed": false
   }
  },
  {
   "cell_type": "markdown",
   "source": [
    "自适应程度与学生是否学习计算机的关系"
   ],
   "metadata": {
    "collapsed": false
   }
  },
  {
   "cell_type": "code",
   "execution_count": 41,
   "outputs": [
    {
     "name": "stdout",
     "output_type": "stream",
     "text": [
      "IT Student  Adaptivity Level\n",
      "No          High                 67\n",
      "            Moderate            435\n",
      "            Low                 261\n",
      "Yes         High                 33\n",
      "            Moderate            180\n",
      "            Low                  75\n",
      "Name: Adaptivity Level, dtype: int64\n"
     ]
    }
   ],
   "source": [
    "IT_Adapt = data.groupby(['IT Student', 'Adaptivity Level'])['Adaptivity Level'].count()\n",
    "IT_Adapt = IT_Adapt.reindex(Order, level='Adaptivity Level')\n",
    "print(IT_Adapt)"
   ],
   "metadata": {
    "collapsed": false
   }
  },
  {
   "cell_type": "markdown",
   "source": [
    "自适应程度与学生居住地的关系"
   ],
   "metadata": {
    "collapsed": false
   }
  },
  {
   "cell_type": "code",
   "execution_count": 42,
   "outputs": [
    {
     "name": "stdout",
     "output_type": "stream",
     "text": [
      "Location  Adaptivity Level\n",
      "No        High                  8\n",
      "          Moderate             83\n",
      "          Low                  94\n",
      "Yes       High                 92\n",
      "          Moderate            532\n",
      "          Low                 242\n",
      "Name: Adaptivity Level, dtype: int64\n"
     ]
    }
   ],
   "source": [
    "Location_Adapt = data.groupby(['Location', 'Adaptivity Level'])['Adaptivity Level'].count()\n",
    "Location_Adapt = Location_Adapt.reindex(Order, level='Adaptivity Level')\n",
    "print(Location_Adapt)"
   ],
   "metadata": {
    "collapsed": false
   }
  },
  {
   "cell_type": "markdown",
   "source": [
    "自适应程度与经济情况的关系"
   ],
   "metadata": {
    "collapsed": false
   }
  },
  {
   "cell_type": "code",
   "execution_count": 43,
   "outputs": [
    {
     "name": "stdout",
     "output_type": "stream",
     "text": [
      "Financial Condition  Adaptivity Level\n",
      "Poor                 High                 22\n",
      "                     Moderate             91\n",
      "                     Low                  91\n",
      "Mid                  High                 36\n",
      "                     Moderate            491\n",
      "                     Low                 237\n",
      "Rich                 High                 42\n",
      "                     Moderate             33\n",
      "                     Low                   8\n",
      "Name: Adaptivity Level, dtype: int64\n"
     ]
    }
   ],
   "source": [
    "Finance_Adapt = data.groupby(['Financial Condition', 'Adaptivity Level'])['Adaptivity Level'].count()\n",
    "Finance_Adapt = Finance_Adapt.reindex(Order, level='Adaptivity Level')\n",
    "Finance_Adapt = Finance_Adapt.reindex(finance, level='Financial Condition')\n",
    "print(Finance_Adapt)"
   ],
   "metadata": {
    "collapsed": false
   }
  },
  {
   "cell_type": "markdown",
   "source": [
    "自适应程度与网络类型的关系"
   ],
   "metadata": {
    "collapsed": false
   }
  },
  {
   "cell_type": "code",
   "execution_count": 44,
   "outputs": [
    {
     "name": "stdout",
     "output_type": "stream",
     "text": [
      "Internet Type  Adaptivity Level\n",
      "Mobile Data    High                 36\n",
      "               Moderate            367\n",
      "               Low                 183\n",
      "Wifi           High                 64\n",
      "               Moderate            248\n",
      "               Low                 153\n",
      "Name: Adaptivity Level, dtype: int64\n"
     ]
    }
   ],
   "source": [
    "Internet_Adapt = data.groupby(['Internet Type', 'Adaptivity Level'])['Adaptivity Level'].count()\n",
    "Internet_Adapt = Internet_Adapt.reindex(Order, level='Adaptivity Level')\n",
    "print(Internet_Adapt)"
   ],
   "metadata": {
    "collapsed": false
   }
  },
  {
   "cell_type": "markdown",
   "source": [
    "自适应程度与网络连接的关系"
   ],
   "metadata": {
    "collapsed": false
   }
  },
  {
   "cell_type": "code",
   "execution_count": 45,
   "outputs": [
    {
     "name": "stdout",
     "output_type": "stream",
     "text": [
      "Network Type  Adaptivity Level\n",
      "2G            Moderate              3\n",
      "              Low                  14\n",
      "3G            High                 22\n",
      "              Moderate            203\n",
      "              Low                 143\n",
      "4G            High                 78\n",
      "              Moderate            409\n",
      "              Low                 179\n",
      "Name: Adaptivity Level, dtype: int64\n"
     ]
    }
   ],
   "source": [
    "Network_Adapt = data.groupby(['Network Type', 'Adaptivity Level'])['Adaptivity Level'].count()\n",
    "Network_Adapt = Network_Adapt.reindex(Order, level='Adaptivity Level')\n",
    "print(Network_Adapt)"
   ],
   "metadata": {
    "collapsed": false
   }
  },
  {
   "cell_type": "markdown",
   "source": [
    "自适应程度与课程时长的关系"
   ],
   "metadata": {
    "collapsed": false
   }
  },
  {
   "cell_type": "code",
   "execution_count": 46,
   "outputs": [
    {
     "name": "stdout",
     "output_type": "stream",
     "text": [
      "Class Duration  Adaptivity Level\n",
      "1-3             High                 82\n",
      "                Moderate            468\n",
      "                Low                 290\n",
      "3-6             High                 18\n",
      "                Moderate            147\n",
      "                Low                  46\n",
      "Name: Adaptivity Level, dtype: int64\n"
     ]
    }
   ],
   "source": [
    "Duration_Adapt = data.groupby(['Class Duration', 'Adaptivity Level'])['Adaptivity Level'].count()\n",
    "Duration_Adapt = Duration_Adapt.reindex(Order, level='Adaptivity Level')\n",
    "print(Duration_Adapt)"
   ],
   "metadata": {
    "collapsed": false
   }
  },
  {
   "cell_type": "markdown",
   "source": [
    "自适应程度与学校是否有学习系统的关系"
   ],
   "metadata": {
    "collapsed": false
   }
  },
  {
   "cell_type": "code",
   "execution_count": 47,
   "outputs": [
    {
     "name": "stdout",
     "output_type": "stream",
     "text": [
      "Self Lms  Adaptivity Level\n",
      "No        High                 70\n",
      "          Moderate            487\n",
      "          Low                 286\n",
      "Yes       High                 30\n",
      "          Moderate            128\n",
      "          Low                  50\n",
      "Name: Adaptivity Level, dtype: int64\n"
     ]
    }
   ],
   "source": [
    "LMS_Adapt = data.groupby(['Self Lms', 'Adaptivity Level'])['Adaptivity Level'].count()\n",
    "LMS_Adapt = LMS_Adapt.reindex(Order, level='Adaptivity Level')\n",
    "print(LMS_Adapt)"
   ],
   "metadata": {
    "collapsed": false
   }
  },
  {
   "cell_type": "markdown",
   "source": [
    "自适应程度与设备的关系"
   ],
   "metadata": {
    "collapsed": false
   }
  },
  {
   "cell_type": "code",
   "execution_count": 48,
   "outputs": [
    {
     "name": "stdout",
     "output_type": "stream",
     "text": [
      "Device    Adaptivity Level\n",
      "Computer  High                 30\n",
      "          Moderate             92\n",
      "          Low                  34\n",
      "Mobile    High                 68\n",
      "          Moderate            497\n",
      "          Low                 300\n",
      "Tab       High                  2\n",
      "          Moderate             26\n",
      "          Low                   2\n",
      "Name: Adaptivity Level, dtype: int64\n"
     ]
    }
   ],
   "source": [
    "Device_Adapt = data.groupby(['Device', 'Adaptivity Level'])['Adaptivity Level'].count()\n",
    "Device_Adapt = Device_Adapt.reindex(Order, level='Adaptivity Level')\n",
    "print(Device_Adapt)"
   ],
   "metadata": {
    "collapsed": false
   }
  },
  {
   "cell_type": "markdown",
   "source": [
    "## (3) 数据可视化"
   ],
   "metadata": {
    "collapsed": false
   }
  },
  {
   "cell_type": "markdown",
   "source": [
    "由于此处难以控制变量，所以通过比例的方式来反映一个变量的影响程度。\n",
    "\n",
    "同时，我们在研究过程中主要比较高适应性与低适应性。"
   ],
   "metadata": {
    "collapsed": false
   }
  },
  {
   "cell_type": "code",
   "execution_count": 49,
   "outputs": [],
   "source": [
    "plt.rcParams['font.sans-serif'] = ['SimHei']\n",
    "plt.rcParams['axes.unicode_minus'] = False\n",
    "font = {'family':'STZhongSong', 'size':16}"
   ],
   "metadata": {
    "collapsed": false
   }
  },
  {
   "cell_type": "markdown",
   "source": [
    "显示学生自适应总体情况"
   ],
   "metadata": {
    "collapsed": false
   }
  },
  {
   "cell_type": "code",
   "execution_count": 50,
   "outputs": [
    {
     "data": {
      "text/plain": "<Figure size 432x288 with 1 Axes>",
      "image/png": "[encoded data removed]"
     },
     "metadata": {},
     "output_type": "display_data"
    }
   ],
   "source": [
    "plt.pie(Adaptivity, labels=Order, autopct='%.1f%%')\n",
    "plt.show()"
   ],
   "metadata": {
    "collapsed": false
   }
  },
  {
   "cell_type": "markdown",
   "source": [
    "性别"
   ],
   "metadata": {
    "collapsed": false
   },
   "outputs": [
    {
     "ename": "NameError",
     "evalue": "name '年龄' is not defined",
     "output_type": "error",
     "traceback": [
      "\u001B[1;31m---------------------------------------------------------------------------\u001B[0m",
      "\u001B[1;31mNameError\u001B[0m                                 Traceback (most recent call last)",
      "Input \u001B[1;32mIn [1]\u001B[0m, in \u001B[0;36m<cell line: 1>\u001B[1;34m()\u001B[0m\n\u001B[1;32m----> 1\u001B[0m \u001B[43m年龄\u001B[49m\n",
      "\u001B[1;31mNameError\u001B[0m: name '年龄' is not defined"
     ]
    }
   ],
   "execution_count": 1
  },
  {
   "cell_type": "code",
   "execution_count": 51,
   "outputs": [
    {
     "data": {
      "text/plain": "<Figure size 432x288 with 1 Axes>",
      "image/png": "[encoded data removed]"
     },
     "metadata": {},
     "output_type": "display_data"
    }
   ],
   "source": [
    "high = [Gender_Adapt['Boy']['High'], Gender_Adapt['Girl']['High']]\n",
    "moderate = [Gender_Adapt['Boy']['Moderate'], Gender_Adapt['Girl']['Moderate']]\n",
    "low = [Gender_Adapt['Boy']['Low'], Gender_Adapt['Girl']['Low']]\n",
    "\n",
    "\n",
    "count = Gender.count()\n",
    "width = 0.2\n",
    "x = np.arange(count)\n",
    "plt.bar(x, high, width=width, label='High')\n",
    "for i in range(count):\n",
    "    plt.text(x[i], high[i], high[i], va='bottom', ha='center')\n",
    "plt.bar(x+width, moderate, width=width, label='Moderate')\n",
    "for i in range(count):\n",
    "    plt.text(x[i]+width, moderate[i], moderate[i], va='bottom', ha='center')\n",
    "plt.bar(x+2*width, low, width=width, label='Low')\n",
    "for i in range(count):\n",
    "    plt.text(x[i]+2*width, low[i], low[i], va='bottom', ha='center')\n",
    "plt.xticks(x+width, labels=gender)\n",
    "plt.legend(loc='upper center')\n",
    "plt.show()\n"
   ],
   "metadata": {
    "collapsed": false
   }
  },
  {
   "cell_type": "code",
   "execution_count": 103,
   "outputs": [
    {
     "data": {
      "text/plain": "<Figure size 720x720 with 2 Axes>",
      "image/png": "[encoded data removed]"
     },
     "metadata": {},
     "output_type": "display_data"
    }
   ],
   "source": [
    "plt.figure(figsize=(10, 10))\n",
    "plt.subplot(121)\n",
    "boy = [Gender_Adapt['Boy']['High'], Gender_Adapt['Boy']['Moderate'], Gender_Adapt['Boy']['Low']]\n",
    "plt.pie(boy, labels=Order, autopct='%1.1f%%', radius=0.8)\n",
    "plt.title(\"男生\")\n",
    "\n",
    "\n",
    "plt.subplot(122)\n",
    "girl = [Gender_Adapt['Girl']['High'], Gender_Adapt['Girl']['Moderate'], Gender_Adapt['Girl']['Low']]\n",
    "plt.pie(girl, labels=Order, autopct='%1.1f%%', radius=0.8)\n",
    "plt.title(\"女生\")\n",
    "\n",
    "plt.show()"
   ],
   "metadata": {
    "collapsed": false
   }
  },
  {
   "cell_type": "markdown",
   "source": [
    "通过以上饼图可以发现女生大多数都处于中等自适应性。而男生有较大的比例有较高的自适应性，女生有较大的比例有较低的自适应性。"
   ],
   "metadata": {
    "collapsed": false
   }
  },
  {
   "cell_type": "code",
   "execution_count": 53,
   "outputs": [
    {
     "data": {
      "text/plain": "<Figure size 432x288 with 1 Axes>",
      "image/png": "[encoded data removed]"
     },
     "metadata": {},
     "output_type": "display_data"
    }
   ],
   "source": [
    "high = [0, Age_Adapt['6-10']['High'], Age_Adapt['11-15']['High'], Age_Adapt['16-20']['High'],\n",
    "        Age_Adapt['21-25']['High'], Age_Adapt['26-30']['High']]\n",
    "moderate = [Age_Adapt['1-5']['Moderate'], Age_Adapt['6-10']['Moderate'], Age_Adapt['11-15']['Moderate'], Age_Adapt['16-20']['Moderate'],\n",
    "            Age_Adapt['21-25']['Moderate'], Age_Adapt['26-30']['Moderate']]\n",
    "low = [Age_Adapt['1-5']['Low'], Age_Adapt['6-10']['Low'], Age_Adapt['11-15']['Low'], Age_Adapt['16-20']['Low'],\n",
    "       Age_Adapt['21-25']['Low'], Age_Adapt['26-30']['Low']]\n",
    "\n",
    "\n",
    "count = Age.count()\n",
    "width = 0.3\n",
    "x = np.arange(count)\n",
    "plt.bar(x, high, width=width, label='High')\n",
    "for i in range(count):\n",
    "    plt.text(x[i], high[i], high[i], va='bottom', ha='center')\n",
    "plt.bar(x+width, moderate, width=width, label='Moderate')\n",
    "for i in range(count):\n",
    "    plt.text(x[i]+width, moderate[i], moderate[i], va='bottom', ha='center')\n",
    "plt.bar(x+2*width, low, width=width, label='Low')\n",
    "for i in range(count):\n",
    "    plt.text(x[i]+2*width, low[i], low[i], va='bottom', ha='center')\n",
    "plt.xticks(x+width, labels=age)\n",
    "plt.legend()\n",
    "plt.show()"
   ],
   "metadata": {
    "collapsed": false
   }
  },
  {
   "cell_type": "code",
   "execution_count": 54,
   "outputs": [
    {
     "data": {
      "text/plain": "<Figure size 720x360 with 6 Axes>",
      "image/png": "[encoded data removed]"
     },
     "metadata": {},
     "output_type": "display_data"
    }
   ],
   "source": [
    "age1 = [0, Age_Adapt['1-5']['Moderate'], Age_Adapt['1-5']['Low']]\n",
    "age2 = [Age_Adapt['6-10']['High'], Age_Adapt['6-10']['Moderate'], Age_Adapt['6-10']['Low']]\n",
    "age3 = [Age_Adapt['11-15']['High'], Age_Adapt['11-15']['Moderate'], Age_Adapt['11-15']['Low']]\n",
    "age4 = [Age_Adapt['16-20']['High'], Age_Adapt['16-20']['Moderate'], Age_Adapt['16-20']['Low']]\n",
    "age5 = [Age_Adapt['21-25']['High'], Age_Adapt['21-25']['Moderate'], Age_Adapt['21-25']['Low']]\n",
    "age6 = [Age_Adapt['26-30']['High'], Age_Adapt['26-30']['Moderate'], Age_Adapt['26-30']['Low']]\n",
    "\n",
    "plt.figure(figsize=(10, 5))\n",
    "\n",
    "plt.subplot(231)\n",
    "plt.pie(age1, labels=Order, autopct='%1.1f%%')\n",
    "plt.title('1-5')\n",
    "\n",
    "\n",
    "plt.subplot(232)\n",
    "plt.pie(age2, labels=Order, autopct='%1.1f%%')\n",
    "plt.title('6-10')\n",
    "\n",
    "\n",
    "plt.subplot(233)\n",
    "plt.pie(age3, labels=Order, autopct='%1.1f%%')\n",
    "plt.title('11-15')\n",
    "\n",
    "\n",
    "plt.subplot(234)\n",
    "plt.pie(age4, labels=Order, autopct='%1.1f%%')\n",
    "plt.title('16-20')\n",
    "\n",
    "\n",
    "plt.subplot(235)\n",
    "plt.pie(age5, labels=Order, autopct='%1.1f%%')\n",
    "plt.title('21-25')\n",
    "\n",
    "\n",
    "plt.subplot(236)\n",
    "plt.pie(age6, labels=Order, autopct='%1.1f%%')\n",
    "plt.title('26-30')\n",
    "\n",
    "\n",
    "plt.show()"
   ],
   "metadata": {
    "collapsed": false
   }
  },
  {
   "cell_type": "markdown",
   "source": [
    "如果只是从饼图显示的比例来看，6-10岁的小朋友对于网课的自适应性最强，其次是26-30。在学生达到16岁后，自适应程度随着年龄的增长而不断增强。\n",
    "\n",
    "可能的原因如下：\n",
    "- 6-10岁小朋友刚刚正式进入学校学习，他们并没有自己的学习习惯，而线上学习对于他们来说是第一种学习方式，同时他们对于网课这类新奇的事物感到好奇，所以对于网课有一定的适应性。\n",
    "- 成年以后，人们的心智也在不断地成熟，对于新事物的学习能力也较强，在线下线上转换的过程中，年龄较大者因较多的社会阅历，他们能够更加容易地接受新的事物。\n",
    "- 观察柱状图，可以发现1-10岁学生的数据较少，所以这里的数据可能并不能反映整体的情况。在增加一定的数据量后，可能6-10岁的高适应性比例会下降。与此同时，11-25岁的数据较为充足，可以显示出16-20岁的学生对于网课并没有很强的适应性，而这个年龄段恰好是高中和大学本科的年龄段。"
   ],
   "metadata": {
    "collapsed": false
   }
  },
  {
   "cell_type": "markdown",
   "source": [
    "学历层次"
   ],
   "metadata": {
    "collapsed": false
   }
  },
  {
   "cell_type": "code",
   "execution_count": 55,
   "outputs": [
    {
     "data": {
      "text/plain": "<Figure size 432x288 with 1 Axes>",
      "image/png": "[encoded data removed]"
     },
     "metadata": {},
     "output_type": "display_data"
    }
   ],
   "source": [
    "high = [Education_Adapt['School']['High'], Education_Adapt['College']['High'], Education_Adapt['University']['High']]\n",
    "moderate = [Education_Adapt['School']['Moderate'], Education_Adapt['College']['Moderate'], Education_Adapt['University']['Moderate']]\n",
    "low = [Education_Adapt['School']['Low'], Education_Adapt['College']['Low'], Education_Adapt['University']['Low']]\n",
    "\n",
    "\n",
    "count = Education.count()\n",
    "width = 0.2\n",
    "x = np.arange(count)\n",
    "plt.bar(x, high, width=width, label='High')\n",
    "for i in range(count):\n",
    "    plt.text(x[i], high[i], high[i], va='bottom', ha='center')\n",
    "plt.bar(x+width, moderate, width=width, label='Moderate')\n",
    "for i in range(count):\n",
    "    plt.text(x[i]+width, moderate[i], moderate[i], va='bottom', ha='center')\n",
    "plt.bar(x+2*width, low, width=width, label='Low')\n",
    "for i in range(count):\n",
    "    plt.text(x[i]+2*width, low[i], low[i], va='bottom', ha='center')\n",
    "plt.xticks(x+width, labels=education)\n",
    "plt.legend()\n",
    "plt.show()"
   ],
   "metadata": {
    "collapsed": false
   }
  },
  {
   "cell_type": "code",
   "execution_count": 102,
   "outputs": [
    {
     "data": {
      "text/plain": "<Figure size 720x720 with 3 Axes>",
      "image/png": "[encoded data removed]"
     },
     "metadata": {},
     "output_type": "display_data"
    }
   ],
   "source": [
    "plt.figure(figsize=(10, 10))\n",
    "plt.subplot(131)\n",
    "school = [Education_Adapt['School']['High'], Education_Adapt['School']['Moderate'], Education_Adapt['School']['Low']]\n",
    "plt.pie(school, labels=Order, autopct='%1.1f%%')\n",
    "plt.title(\"中小学\")\n",
    "\n",
    "\n",
    "plt.subplot(132)\n",
    "college = [Education_Adapt['College']['High'], Education_Adapt['College']['Moderate'], Education_Adapt['College']['Low']]\n",
    "plt.pie(college, labels=Order, autopct='%1.1f%%')\n",
    "plt.title(\"职业学校\")\n",
    "\n",
    "\n",
    "plt.subplot(133)\n",
    "university = [Education_Adapt['University']['High'], Education_Adapt['University']['Moderate'], Education_Adapt['University']['Low']]\n",
    "plt.pie(university, labels=Order, autopct='%1.1f%%')\n",
    "plt.title(\"综合性大学\")\n",
    "plt.show()"
   ],
   "metadata": {
    "collapsed": false
   }
  },
  {
   "cell_type": "markdown",
   "source": [
    "通过这张饼图，可以发现职业学校的学生的低适应性是最明显的，几乎占到了总数的一半。\n",
    "接下来，比较中小学学生和综合性大学学生。在高适应性学生中，综合性大学学生比例略大于中小学学生比例。但是看到低适应性比例后，可以发现综合性大学学生比例远大于中小学学生比例。这里我们可以得到一个小结论，总体来看，中小学生网课总体适应性是高于综合性大学的。这与之前分析的年龄因素有一定的吻合之处。我们可以看到16-20岁的学生低适应性的比例是极大的，而这恰好是高中到大学的过渡时期。所以这里很难断定是因为年龄还是学历层次引起的差异。"
   ],
   "metadata": {
    "collapsed": false
   }
  },
  {
   "cell_type": "markdown",
   "source": [
    "学院性质"
   ],
   "metadata": {
    "collapsed": false
   }
  },
  {
   "cell_type": "code",
   "execution_count": 57,
   "outputs": [
    {
     "data": {
      "text/plain": "<Figure size 432x288 with 1 Axes>",
      "image/png": "[encoded data removed]"
     },
     "metadata": {},
     "output_type": "display_data"
    }
   ],
   "source": [
    "high = [Government_Adapt['Government']['High'], Government_Adapt['Non Government']['High']]\n",
    "moderate = [Government_Adapt['Government']['Moderate'], Government_Adapt['Non Government']['Moderate']]\n",
    "low = [Government_Adapt['Government']['Low'], Government_Adapt['Non Government']['Low']]\n",
    "\n",
    "\n",
    "count = Government.count()\n",
    "width = 0.2\n",
    "x = np.arange(count)\n",
    "plt.bar(x, high, width=width, label='High')\n",
    "for i in range(count):\n",
    "    plt.text(x[i], high[i], high[i], va='bottom', ha='center')\n",
    "plt.bar(x+width, moderate, width=width, label='Moderate')\n",
    "for i in range(count):\n",
    "    plt.text(x[i]+width, moderate[i], moderate[i], va='bottom', ha='center')\n",
    "plt.bar(x+2*width, low, width=width, label='Low')\n",
    "for i in range(count):\n",
    "    plt.text(x[i]+2*width, low[i], low[i], va='bottom', ha='center')\n",
    "plt.xticks(x+width, labels=institution)\n",
    "plt.legend()\n",
    "plt.show()"
   ],
   "metadata": {
    "collapsed": false
   }
  },
  {
   "cell_type": "code",
   "execution_count": 58,
   "outputs": [
    {
     "data": {
      "text/plain": "<Figure size 432x288 with 2 Axes>",
      "image/png": "[encoded data removed]"
     },
     "metadata": {},
     "output_type": "display_data"
    }
   ],
   "source": [
    "plt.subplot(121)\n",
    "gov = [Government_Adapt['Government']['High'], Government_Adapt['Government']['Moderate'], Government_Adapt['Government']['Low']]\n",
    "plt.pie(boy, labels=Order, autopct='%1.1f%%')\n",
    "plt.title(\"公立\")\n",
    "\n",
    "\n",
    "plt.subplot(122)\n",
    "ngov = [Government_Adapt['Non Government']['High'], Government_Adapt['Non Government']['Moderate'], Government_Adapt['Non Government']['Low']]\n",
    "plt.pie(girl, labels=Order, autopct='%1.1f%%')\n",
    "plt.title(\"私立\")\n",
    "\n",
    "plt.show()"
   ],
   "metadata": {
    "collapsed": false
   }
  },
  {
   "cell_type": "markdown",
   "source": [
    "从这张图中我们可以看出公立学校学生高适应性比例是较大的，且低适应性比例是较小的，可见公立学校学生总体网课适应性是较强的。"
   ],
   "metadata": {
    "collapsed": false
   }
  },
  {
   "cell_type": "markdown",
   "source": [
    "是否为计算机学生"
   ],
   "metadata": {
    "collapsed": false
   }
  },
  {
   "cell_type": "code",
   "execution_count": 59,
   "outputs": [
    {
     "data": {
      "text/plain": "<Figure size 432x288 with 1 Axes>",
      "image/png": "[encoded data removed]"
     },
     "metadata": {},
     "output_type": "display_data"
    }
   ],
   "source": [
    "high = [IT_Adapt['No']['High'], IT_Adapt['Yes']['High']]\n",
    "moderate = [IT_Adapt['No']['Moderate'], IT_Adapt['Yes']['Moderate']]\n",
    "low = [IT_Adapt['No']['Low'], IT_Adapt['Yes']['Low']]\n",
    "\n",
    "\n",
    "count = IT.count()\n",
    "width = 0.2\n",
    "x = np.arange(count)\n",
    "plt.bar(x, high, width=width, label='High')\n",
    "for i in range(count):\n",
    "    plt.text(x[i], high[i], high[i], va='bottom', ha='center')\n",
    "plt.bar(x + width, moderate, width=width, label='Moderate')\n",
    "for i in range(count):\n",
    "    plt.text(x[i] + width, moderate[i], moderate[i], va='bottom', ha='center')\n",
    "plt.bar(x + 2 * width, low, width=width, label='Low')\n",
    "for i in range(count):\n",
    "    plt.text(x[i] + 2 * width, low[i], low[i], va='bottom', ha='center')\n",
    "plt.xticks(x + width, labels=it)\n",
    "plt.legend()\n",
    "plt.show()"
   ],
   "metadata": {
    "collapsed": false
   }
  },
  {
   "cell_type": "code",
   "execution_count": 60,
   "outputs": [
    {
     "data": {
      "text/plain": "<Figure size 432x288 with 2 Axes>",
      "image/png": "[encoded data removed]"
     },
     "metadata": {},
     "output_type": "display_data"
    }
   ],
   "source": [
    "plt.subplot(121)\n",
    "no = [IT_Adapt['No']['High'], IT_Adapt['No']['Moderate'], IT_Adapt['No']['Low']]\n",
    "plt.pie(no, labels=Order, autopct='%1.1f%%')\n",
    "plt.title(\"非计算机类学生\")\n",
    "\n",
    "\n",
    "plt.subplot(122)\n",
    "yes = [IT_Adapt['Yes']['High'], IT_Adapt['Yes']['Moderate'], IT_Adapt['Yes']['Low']]\n",
    "plt.pie(yes, labels=Order, autopct='%1.1f%%')\n",
    "plt.title(\"计算机类学生\")\n",
    "\n",
    "plt.show()"
   ],
   "metadata": {
    "collapsed": false
   }
  },
  {
   "cell_type": "markdown",
   "source": [
    "从这张图中可以看出计算机相关学生的高适应性比例较大，且低适应性比例较小。而这一点其实可以理解，计算机类的学生与电脑等智能设备接触更密切，且研究的都是较深的计算机知识，所以他们可以较快地掌握网课所需的一些技能，从而能够更好的适应网课的环境。从网课适应性的角度出发，我们也能看到一些差距。非计算机类学生相比于计算机类学生难以适应网课的现象较为普遍。可能的原因有非计算机类学生的计算机能力教育较为薄弱，学生也很难自己去学习相关的知识，同时，他们也会认为这样的能力对于他们来说意义不大，从而不去主动学习相应的知识。所以，对于计算机教育的普及尤为重要，在网课期间，它的重要性也有所体现，所有人都应该重视计算机能力，顺应这个时代，掌握这个时代所必须的知识和技能。"
   ],
   "metadata": {
    "collapsed": false
   }
  },
  {
   "cell_type": "markdown",
   "source": [
    "居住地点"
   ],
   "metadata": {
    "collapsed": false
   }
  },
  {
   "cell_type": "code",
   "execution_count": 61,
   "outputs": [
    {
     "data": {
      "text/plain": "<Figure size 432x288 with 1 Axes>",
      "image/png": "[encoded data removed]"
     },
     "metadata": {},
     "output_type": "display_data"
    }
   ],
   "source": [
    "high = [Location_Adapt['No']['High'], Location_Adapt['Yes']['High']]\n",
    "moderate = [Location_Adapt['No']['Moderate'], Location_Adapt['Yes']['Moderate']]\n",
    "low = [Location_Adapt['No']['Low'], Location_Adapt['Yes']['Low']]\n",
    "\n",
    "\n",
    "count = Town.count()\n",
    "width = 0.2\n",
    "x = np.arange(count)\n",
    "plt.bar(x, high, width=width, label='High')\n",
    "for i in range(count):\n",
    "    plt.text(x[i], high[i], high[i], va='bottom', ha='center')\n",
    "plt.bar(x + width, moderate, width=width, label='Moderate')\n",
    "for i in range(count):\n",
    "    plt.text(x[i] + width, moderate[i], moderate[i], va='bottom', ha='center')\n",
    "plt.bar(x + 2 * width, low, width=width, label='Low')\n",
    "for i in range(count):\n",
    "    plt.text(x[i] + 2 * width, low[i], low[i], va='bottom', ha='center')\n",
    "plt.xticks(x + width, labels=location)\n",
    "plt.legend()\n",
    "plt.show()"
   ],
   "metadata": {
    "collapsed": false
   }
  },
  {
   "cell_type": "markdown",
   "source": [
    "从中我们可以看到被调查者中城市学生远多于乡村学生"
   ],
   "metadata": {
    "collapsed": false
   }
  },
  {
   "cell_type": "code",
   "execution_count": 62,
   "outputs": [
    {
     "data": {
      "text/plain": "<Figure size 432x288 with 2 Axes>",
      "image/png": "[encoded data removed]"
     },
     "metadata": {},
     "output_type": "display_data"
    }
   ],
   "source": [
    "plt.subplot(121)\n",
    "no = [Location_Adapt['No']['High'], Location_Adapt['No']['Moderate'], Location_Adapt['No']['Low']]\n",
    "plt.pie(no, labels=Order, autopct='%1.1f%%')\n",
    "plt.title(\"乡村\")\n",
    "\n",
    "\n",
    "plt.subplot(122)\n",
    "yes = [Location_Adapt['Yes']['High'], Location_Adapt['Yes']['Moderate'], Location_Adapt['Yes']['Low']]\n",
    "plt.pie(yes, labels=Order, autopct='%1.1f%%')\n",
    "plt.title(\"城市\")\n",
    "\n",
    "plt.show()"
   ],
   "metadata": {
    "collapsed": false
   }
  },
  {
   "cell_type": "markdown",
   "source": [
    "从上图中可以看出，城市学生网课适应程度略高于乡村学生网课适应程度，而原因将在后文分析。"
   ],
   "metadata": {
    "collapsed": false
   }
  },
  {
   "cell_type": "markdown",
   "source": [
    "经济状况"
   ],
   "metadata": {
    "collapsed": false
   }
  },
  {
   "cell_type": "code",
   "execution_count": 63,
   "outputs": [
    {
     "data": {
      "text/plain": "<Figure size 432x288 with 1 Axes>",
      "image/png": "[encoded data removed]"
     },
     "metadata": {},
     "output_type": "display_data"
    }
   ],
   "source": [
    "high = [Finance_Adapt['Poor']['High'], Finance_Adapt['Mid']['High'], Finance_Adapt['Rich']['High']]\n",
    "moderate = [Finance_Adapt['Poor']['Moderate'], Finance_Adapt['Mid']['Moderate'], Finance_Adapt['Rich']['Moderate']]\n",
    "low = [Finance_Adapt['Poor']['Low'], Finance_Adapt['Mid']['Low'], Finance_Adapt['Rich']['Low']]\n",
    "\n",
    "\n",
    "count = Finance.count()\n",
    "width = 0.2\n",
    "x = np.arange(count)\n",
    "plt.bar(x, high, width=width, label='High')\n",
    "for i in range(count):\n",
    "    plt.text(x[i], high[i], high[i], va='bottom', ha='center')\n",
    "plt.bar(x+width, moderate, width=width, label='Moderate')\n",
    "for i in range(count):\n",
    "    plt.text(x[i]+width, moderate[i], moderate[i], va='bottom', ha='center')\n",
    "plt.bar(x+2*width, low, width=width, label='Low')\n",
    "for i in range(count):\n",
    "    plt.text(x[i]+2*width, low[i], low[i], va='bottom', ha='center')\n",
    "plt.xticks(x+width, labels=finance)\n",
    "plt.legend()\n",
    "plt.show()"
   ],
   "metadata": {
    "collapsed": false
   }
  },
  {
   "cell_type": "code",
   "execution_count": 64,
   "outputs": [
    {
     "data": {
      "text/plain": "<Figure size 720x720 with 3 Axes>",
      "image/png": "[encoded data removed]"
     },
     "metadata": {},
     "output_type": "display_data"
    }
   ],
   "source": [
    "plt.figure(figsize=(10, 10))\n",
    "plt.subplot(131)\n",
    "poor = [Finance_Adapt['Poor']['High'], Finance_Adapt['Poor']['Moderate'], Finance_Adapt['Poor']['Low']]\n",
    "plt.pie(poor, labels=Order, autopct='%1.1f%%')\n",
    "plt.title(\"较穷困\")\n",
    "\n",
    "\n",
    "plt.subplot(132)\n",
    "mid = [Finance_Adapt['Mid']['High'], Finance_Adapt['Mid']['Moderate'], Finance_Adapt['Mid']['Low']]\n",
    "plt.pie(mid, labels=Order, autopct='%1.1f%%')\n",
    "plt.title(\"一般\")\n",
    "\n",
    "\n",
    "plt.subplot(133)\n",
    "rich = [Finance_Adapt['Rich']['High'], Finance_Adapt['Rich']['Moderate'], Finance_Adapt['Rich']['Low']]\n",
    "plt.pie(rich, labels=Order, autopct='%1.1f%%')\n",
    "plt.title(\"较富裕\")\n",
    "plt.show()"
   ],
   "metadata": {
    "collapsed": false
   }
  },
  {
   "cell_type": "markdown",
   "source": [
    "在这张图中，我们重点分析贫困学生和富裕学生的差异。这两类学生的数据量较小，所以结论并不准确。但是从这些数据中，我们仍然能看出一定的贫富差距。富裕学生中高适应性学生的比例超过了一般，而贫困学生的低适应比例将近一半。可见家庭经济情况在一定程度上也可以影响学习状态。"
   ],
   "metadata": {
    "collapsed": false
   }
  },
  {
   "cell_type": "markdown",
   "source": [
    "网络连接"
   ],
   "metadata": {
    "collapsed": false
   }
  },
  {
   "cell_type": "code",
   "execution_count": 65,
   "outputs": [
    {
     "data": {
      "text/plain": "<Figure size 432x288 with 1 Axes>",
      "image/png": "[encoded data removed]"
     },
     "metadata": {},
     "output_type": "display_data"
    }
   ],
   "source": [
    "high = [Internet_Adapt['Mobile Data']['High'], Internet_Adapt['Wifi']['High']]\n",
    "moderate = [Internet_Adapt['Mobile Data']['Moderate'], Internet_Adapt['Wifi']['Moderate']]\n",
    "low = [Internet_Adapt['Mobile Data']['Low'], Internet_Adapt['Wifi']['Low']]\n",
    "\n",
    "\n",
    "count = Internet.count()\n",
    "width = 0.2\n",
    "x = np.arange(count)\n",
    "plt.bar(x, high, width=width, label='High')\n",
    "for i in range(count):\n",
    "    plt.text(x[i], high[i], high[i], va='bottom', ha='center')\n",
    "plt.bar(x + width, moderate, width=width, label='Moderate')\n",
    "for i in range(count):\n",
    "    plt.text(x[i] + width, moderate[i], moderate[i], va='bottom', ha='center')\n",
    "plt.bar(x + 2 * width, low, width=width, label='Low')\n",
    "for i in range(count):\n",
    "    plt.text(x[i] + 2 * width, low[i], low[i], va='bottom', ha='center')\n",
    "plt.xticks(x + width, labels=internet)\n",
    "plt.legend()\n",
    "plt.show()"
   ],
   "metadata": {
    "collapsed": false
   }
  },
  {
   "cell_type": "code",
   "execution_count": 66,
   "outputs": [
    {
     "data": {
      "text/plain": "<Figure size 432x288 with 2 Axes>",
      "image/png": "[encoded data removed]"
     },
     "metadata": {},
     "output_type": "display_data"
    }
   ],
   "source": [
    "plt.subplot(121)\n",
    "mobile = [Internet_Adapt['Mobile Data']['High'], Internet_Adapt['Mobile Data']['Moderate'], Internet_Adapt['Mobile Data']['Low']]\n",
    "plt.pie(mobile, labels=Order, autopct='%1.1f%%')\n",
    "plt.title(\"移动网络\")\n",
    "\n",
    "\n",
    "plt.subplot(122)\n",
    "wifi = [Internet_Adapt['Wifi']['High'], Internet_Adapt['Wifi']['Moderate'], Internet_Adapt['Wifi']['Low']]\n",
    "plt.pie(wifi, labels=Order, autopct='%1.1f%%')\n",
    "plt.title(\"wifi连接\")\n",
    "\n",
    "plt.show()"
   ],
   "metadata": {
    "collapsed": false
   }
  },
  {
   "cell_type": "markdown",
   "source": [
    "上图中可以看出使用wifi的学生对于网课具有较高的适应性，而使用移动网络与wifi的学生中低适应性比例相当。"
   ],
   "metadata": {
    "collapsed": false
   }
  },
  {
   "cell_type": "markdown",
   "source": [
    "网络类型"
   ],
   "metadata": {
    "collapsed": false
   }
  },
  {
   "cell_type": "code",
   "execution_count": 67,
   "outputs": [
    {
     "data": {
      "text/plain": "<Figure size 432x288 with 1 Axes>",
      "image/png": "[encoded data removed]"
     },
     "metadata": {},
     "output_type": "display_data"
    }
   ],
   "source": [
    "high = [0, Network_Adapt['3G']['High'], Network_Adapt['4G']['High']]\n",
    "moderate = [Network_Adapt['2G']['Moderate'], Network_Adapt['3G']['Moderate'], Network_Adapt['4G']['Moderate']]\n",
    "low = [Network_Adapt['2G']['Low'], Network_Adapt['3G']['Low'], Network_Adapt['4G']['Low']]\n",
    "\n",
    "\n",
    "count = Network.count()\n",
    "width = 0.2\n",
    "x = np.arange(count)\n",
    "plt.bar(x, high, width=width, label='High')\n",
    "for i in range(count):\n",
    "    plt.text(x[i], high[i], high[i], va='bottom', ha='center')\n",
    "plt.bar(x+width, moderate, width=width, label='Moderate')\n",
    "for i in range(count):\n",
    "    plt.text(x[i]+width, moderate[i], moderate[i], va='bottom', ha='center')\n",
    "plt.bar(x+2*width, low, width=width, label='Low')\n",
    "for i in range(count):\n",
    "    plt.text(x[i]+2*width, low[i], low[i], va='bottom', ha='center')\n",
    "plt.xticks(x+width, labels=network)\n",
    "plt.legend()\n",
    "plt.show()"
   ],
   "metadata": {
    "collapsed": false
   }
  },
  {
   "cell_type": "markdown",
   "source": [
    "从中可以看出，2G网络几乎不存在了，3G，4G网络的普及率较好。"
   ],
   "metadata": {
    "collapsed": false
   }
  },
  {
   "cell_type": "code",
   "execution_count": 68,
   "outputs": [
    {
     "data": {
      "text/plain": "<Figure size 720x720 with 3 Axes>",
      "image/png": "[encoded data removed]"
     },
     "metadata": {},
     "output_type": "display_data"
    }
   ],
   "source": [
    "plt.figure(figsize=(10, 10))\n",
    "plt.subplot(131)\n",
    "g2 = [0, Network_Adapt['2G']['Moderate'], Network_Adapt['2G']['Low']]\n",
    "plt.pie(g2, labels=Order, autopct='%1.1f%%')\n",
    "plt.title(\"2G\")\n",
    "\n",
    "\n",
    "plt.subplot(132)\n",
    "g3 = [Network_Adapt['3G']['High'], Network_Adapt['3G']['Moderate'], Network_Adapt['3G']['Low']]\n",
    "plt.pie(g3, labels=Order, autopct='%1.1f%%')\n",
    "plt.title(\"3G\")\n",
    "\n",
    "\n",
    "plt.subplot(133)\n",
    "g4 = [Network_Adapt['4G']['High'], Network_Adapt['4G']['Moderate'], Network_Adapt['4G']['Low']]\n",
    "plt.pie(g4, labels=Order, autopct='%1.1f%%')\n",
    "plt.title(\"4G\")\n",
    "plt.show()"
   ],
   "metadata": {
    "collapsed": false
   }
  },
  {
   "cell_type": "markdown",
   "source": [
    "从上图中我们可以看出网速对此起到重要的作用。\n",
    "使用4G网络的学生与使用3G网络的学生相比，中高适应比例较大，低适应比例较小，而使用2G网络的学生中没有高适应的学生，且低适应学生占到80%之多。"
   ],
   "metadata": {
    "collapsed": false
   }
  },
  {
   "cell_type": "markdown",
   "source": [
    "课程时长"
   ],
   "metadata": {
    "collapsed": false
   }
  },
  {
   "cell_type": "code",
   "execution_count": 69,
   "outputs": [
    {
     "data": {
      "text/plain": "<Figure size 432x288 with 1 Axes>",
      "image/png": "[encoded data removed]"
     },
     "metadata": {},
     "output_type": "display_data"
    }
   ],
   "source": [
    "high = [Duration_Adapt['1-3']['High'], Duration_Adapt['3-6']['High']]\n",
    "moderate = [Duration_Adapt['1-3']['Moderate'], Duration_Adapt['3-6']['Moderate']]\n",
    "low = [Duration_Adapt['1-3']['Low'], Duration_Adapt['3-6']['Low']]\n",
    "\n",
    "\n",
    "count = Duration.count()\n",
    "width = 0.2\n",
    "x = np.arange(count)\n",
    "plt.bar(x, high, width=width, label='High')\n",
    "for i in range(count):\n",
    "    plt.text(x[i], high[i], high[i], va='bottom', ha='center')\n",
    "plt.bar(x+width, moderate, width=width, label='Moderate')\n",
    "for i in range(count):\n",
    "    plt.text(x[i]+width, moderate[i], moderate[i], va='bottom', ha='center')\n",
    "plt.bar(x+2*width, low, width=width, label='Low')\n",
    "for i in range(count):\n",
    "    plt.text(x[i]+2*width, low[i], low[i], va='bottom', ha='center')\n",
    "plt.xticks(x+width, labels=duration)\n",
    "plt.legend()\n",
    "plt.show()"
   ],
   "metadata": {
    "collapsed": false
   }
  },
  {
   "cell_type": "code",
   "execution_count": 70,
   "outputs": [
    {
     "data": {
      "text/plain": "<Figure size 432x288 with 2 Axes>",
      "image/png": "[encoded data removed]"
     },
     "metadata": {},
     "output_type": "display_data"
    }
   ],
   "source": [
    "plt.subplot(121)\n",
    "short = [Duration_Adapt['1-3']['High'], Duration_Adapt['1-3']['Moderate'], Duration_Adapt['1-3']['Low']]\n",
    "plt.pie(short, labels=Order, autopct='%1.1f%%')\n",
    "plt.title(\"1-3小时\")\n",
    "\n",
    "\n",
    "plt.subplot(122)\n",
    "long = [Duration_Adapt['3-6']['High'], Duration_Adapt['3-6']['Moderate'], Duration_Adapt['3-6']['Low']]\n",
    "plt.pie(long, labels=Order, autopct='%1.1f%%')\n",
    "plt.title(\"3-6小时\")\n",
    "\n",
    "plt.show()"
   ],
   "metadata": {
    "collapsed": false
   }
  },
  {
   "cell_type": "markdown",
   "source": [
    "从上图中可以看出，不论课程时间长短，高适应性学生比例接近，但是课程时间短的学生中低适应性的比例较高。"
   ],
   "metadata": {
    "collapsed": false
   }
  },
  {
   "cell_type": "markdown",
   "source": [
    "是否有学习系统"
   ],
   "metadata": {
    "collapsed": false
   }
  },
  {
   "cell_type": "code",
   "execution_count": 71,
   "outputs": [
    {
     "data": {
      "text/plain": "<Figure size 432x288 with 1 Axes>",
      "image/png": "[encoded data removed]"
     },
     "metadata": {},
     "output_type": "display_data"
    }
   ],
   "source": [
    "high = [LMS_Adapt['No']['High'], LMS_Adapt['Yes']['High']]\n",
    "moderate = [LMS_Adapt['No']['Moderate'], LMS_Adapt['Yes']['Moderate']]\n",
    "low = [LMS_Adapt['No']['Low'], LMS_Adapt['Yes']['Low']]\n",
    "\n",
    "\n",
    "count = Internet.count()\n",
    "width = 0.2\n",
    "x = np.arange(count)\n",
    "plt.bar(x, high, width=width, label='High')\n",
    "for i in range(count):\n",
    "    plt.text(x[i], high[i], high[i], va='bottom', ha='center')\n",
    "plt.bar(x + width, moderate, width=width, label='Moderate')\n",
    "for i in range(count):\n",
    "    plt.text(x[i] + width, moderate[i], moderate[i], va='bottom', ha='center')\n",
    "plt.bar(x + 2 * width, low, width=width, label='Low')\n",
    "for i in range(count):\n",
    "    plt.text(x[i] + 2 * width, low[i], low[i], va='bottom', ha='center')\n",
    "plt.xticks(x + width, labels=lms)\n",
    "plt.legend()\n",
    "plt.show()"
   ],
   "metadata": {
    "collapsed": false
   }
  },
  {
   "cell_type": "code",
   "execution_count": 72,
   "outputs": [
    {
     "data": {
      "text/plain": "<Figure size 432x288 with 2 Axes>",
      "image/png": "[encoded data removed]"
     },
     "metadata": {},
     "output_type": "display_data"
    }
   ],
   "source": [
    "plt.subplot(121)\n",
    "no = [LMS_Adapt['No']['High'], LMS_Adapt['No']['Moderate'], LMS_Adapt['No']['Low']]\n",
    "plt.pie(no, labels=Order, autopct='%1.1f%%')\n",
    "plt.title(\"无学习系统\")\n",
    "\n",
    "\n",
    "plt.subplot(122)\n",
    "yes = [LMS_Adapt['Yes']['High'], LMS_Adapt['Yes']['Moderate'], LMS_Adapt['Yes']['Low']]\n",
    "plt.pie(yes, labels=Order, autopct='%1.1f%%')\n",
    "plt.title(\"有学习系统\")\n",
    "\n",
    "plt.show()"
   ],
   "metadata": {
    "collapsed": false
   }
  },
  {
   "cell_type": "markdown",
   "source": [
    "从上图中可以看出学校有自主的学习系统可以一定程度上提升学生自适应性。有学习系统的学生低适应性比例也较低。"
   ],
   "metadata": {
    "collapsed": false
   }
  },
  {
   "cell_type": "markdown",
   "source": [
    "偏好设备"
   ],
   "metadata": {
    "collapsed": false
   }
  },
  {
   "cell_type": "code",
   "execution_count": 73,
   "outputs": [
    {
     "data": {
      "text/plain": "<Figure size 432x288 with 1 Axes>",
      "image/png": "[encoded data removed]"
     },
     "metadata": {},
     "output_type": "display_data"
    }
   ],
   "source": [
    "high = [Device_Adapt['Computer']['High'], Device_Adapt['Mobile']['High'], Device_Adapt['Tab']['High']]\n",
    "moderate = [Device_Adapt['Computer']['Moderate'], Device_Adapt['Mobile']['Moderate'], Device_Adapt['Tab']['Moderate']]\n",
    "low = [Device_Adapt['Computer']['Low'], Device_Adapt['Mobile']['Low'], Device_Adapt['Tab']['Low']]\n",
    "\n",
    "\n",
    "count = Finance.count()\n",
    "width = 0.2\n",
    "x = np.arange(count)\n",
    "plt.bar(x, high, width=width, label='High')\n",
    "for i in range(count):\n",
    "    plt.text(x[i], high[i], high[i], va='bottom', ha='center')\n",
    "plt.bar(x+width, moderate, width=width, label='Moderate')\n",
    "for i in range(count):\n",
    "    plt.text(x[i]+width, moderate[i], moderate[i], va='bottom', ha='center')\n",
    "plt.bar(x+2*width, low, width=width, label='Low')\n",
    "for i in range(count):\n",
    "    plt.text(x[i]+2*width, low[i], low[i], va='bottom', ha='center')\n",
    "plt.xticks(x+width, labels=device)\n",
    "plt.legend()\n",
    "plt.show()"
   ],
   "metadata": {
    "collapsed": false
   }
  },
  {
   "cell_type": "code",
   "execution_count": 74,
   "outputs": [
    {
     "data": {
      "text/plain": "<Figure size 720x720 with 3 Axes>",
      "image/png": "[encoded data removed]"
     },
     "metadata": {},
     "output_type": "display_data"
    }
   ],
   "source": [
    "plt.figure(figsize=(10, 10))\n",
    "plt.subplot(131)\n",
    "computer = [Device_Adapt['Computer']['High'], Device_Adapt['Computer']['Moderate'], Device_Adapt['Computer']['Low']]\n",
    "plt.pie(computer, labels=Order, autopct='%1.1f%%')\n",
    "plt.title(\"computer\")\n",
    "\n",
    "\n",
    "plt.subplot(132)\n",
    "mobile = [Device_Adapt['Mobile']['High'], Device_Adapt['Mobile']['Moderate'], Device_Adapt['Mobile']['Low']]\n",
    "plt.pie(mobile, labels=Order, autopct='%1.1f%%')\n",
    "plt.title(\"mobile\")\n",
    "\n",
    "\n",
    "plt.subplot(133)\n",
    "tab = [Device_Adapt['Tab']['High'], Device_Adapt['Tab']['Moderate'], Device_Adapt['Tab']['Low']]\n",
    "plt.pie(tab, labels=Order, autopct='%1.1f%%')\n",
    "plt.title(\"tab\")\n",
    "plt.show()"
   ],
   "metadata": {
    "collapsed": false
   }
  },
  {
   "cell_type": "markdown",
   "source": [
    "使用tab的同学数据量过少，所以不做分析。可以看到使用电脑的同学高适应比例较高，同时低适应比例较低。"
   ],
   "metadata": {
    "collapsed": false
   }
  },
  {
   "cell_type": "markdown",
   "source": [
    "## (4) 分析不同因素之间的关系"
   ],
   "metadata": {
    "collapsed": false
   }
  },
  {
   "cell_type": "markdown",
   "source": [
    "之前的分析都基于学生网课自适应性程度和单一因素之间的关系。但是不可否认的是，不同因素之间也会有关系，而它们之间的相互影响可能会导致最终对自适应性的判断。在之前的分析中，我们也遇到了一些与我们平时的观念相悖的结果，所以有必要对于这些现象作出分析。接下来将进行因素之间关系的分析。"
   ],
   "metadata": {
    "collapsed": false
   }
  },
  {
   "cell_type": "markdown",
   "source": [
    "### 居住地，经济水平，网络连接之间的关系"
   ],
   "metadata": {
    "collapsed": false
   }
  },
  {
   "cell_type": "markdown",
   "source": [
    "经济情况与居住地之间的关系"
   ],
   "metadata": {
    "collapsed": false
   }
  },
  {
   "cell_type": "code",
   "execution_count": 75,
   "outputs": [
    {
     "data": {
      "text/plain": "Location  Financial Condition\nNo        Poor                    47\n          Mid                    136\n          Rich                     2\nYes       Poor                   157\n          Mid                    628\n          Rich                    81\nName: Financial Condition, dtype: int64"
     },
     "execution_count": 75,
     "metadata": {},
     "output_type": "execute_result"
    }
   ],
   "source": [
    "Finance = data.groupby(['Location', 'Financial Condition'])['Financial Condition'].count()\n",
    "Finance = Finance.reindex(['Poor', 'Mid', 'Rich'], level='Financial Condition')\n",
    "Finance"
   ],
   "metadata": {
    "collapsed": false
   }
  },
  {
   "cell_type": "code",
   "execution_count": 76,
   "outputs": [
    {
     "data": {
      "text/plain": "<Figure size 432x288 with 2 Axes>",
      "image/png": "[encoded data removed]"
     },
     "metadata": {},
     "output_type": "display_data"
    }
   ],
   "source": [
    "rural = [Finance['No']['Poor'], Finance['No']['Mid'], Finance['No']['Rich']]\n",
    "city = [Finance['Yes']['Poor'], Finance['Yes']['Mid'], Finance['Yes']['Rich']]\n",
    "plt.subplot(121)\n",
    "plt.pie(rural, labels=['穷困', '中等', '富裕'], autopct='%1.1f%%')\n",
    "plt.title(\"乡村\")\n",
    "\n",
    "\n",
    "plt.subplot(122)\n",
    "plt.pie(city, labels=['穷困', '中等', '富裕'], autopct='%1.1f%%')\n",
    "plt.title(\"城市\")\n",
    "plt.show()"
   ],
   "metadata": {
    "collapsed": false
   }
  },
  {
   "cell_type": "markdown",
   "source": [
    "从上述图形中可以看出，乡村穷困率较高，且富裕率几乎为0. 而根据之前的分析，居住在城市的学生，高适应性比例较大；经济水平较为富裕的学生，高适应性比例较大。这里体现了居住地与经济水平之间的关系。我们可以看到它符合我们的一般认知，所以城乡之间的经济水平差异仍然存在，而教育是需要经费投入的，所以加强对乡村经济的发展是至关重要的，这也是乡村里的孩子能受到高质量教育的物质基础，也是实现教育公平的基础。"
   ],
   "metadata": {
    "collapsed": false
   }
  },
  {
   "cell_type": "markdown",
   "source": [
    "网络连接与居住地之间的关系"
   ],
   "metadata": {
    "collapsed": false
   }
  },
  {
   "cell_type": "code",
   "execution_count": 77,
   "outputs": [
    {
     "data": {
      "text/plain": "Location  Internet Type\nNo        Mobile Data      138\n          Wifi              47\nYes       Mobile Data      448\n          Wifi             418\nName: Internet Type, dtype: int64"
     },
     "execution_count": 77,
     "metadata": {},
     "output_type": "execute_result"
    }
   ],
   "source": [
    "Internet = data.groupby(['Location', 'Internet Type'])['Internet Type'].count()\n",
    "Internet"
   ],
   "metadata": {
    "collapsed": false
   }
  },
  {
   "cell_type": "code",
   "execution_count": 78,
   "outputs": [
    {
     "data": {
      "text/plain": "<Figure size 432x288 with 2 Axes>",
      "image/png": "[encoded data removed]"
     },
     "metadata": {},
     "output_type": "display_data"
    }
   ],
   "source": [
    "rural = [Internet['No']['Mobile Data'], Internet['No']['Wifi']]\n",
    "city = [Internet['Yes']['Mobile Data'], Internet['Yes']['Wifi']]\n",
    "plt.subplot(121)\n",
    "plt.pie(rural, labels=['移动网络', 'Wifi'], autopct='%1.1f%%')\n",
    "plt.title(\"乡村\")\n",
    "\n",
    "\n",
    "plt.subplot(122)\n",
    "plt.pie(city, labels=['移动网络', 'Wifi'], autopct='%1.1f%%')\n",
    "plt.title(\"城市\")\n",
    "plt.show()"
   ],
   "metadata": {
    "collapsed": false
   }
  },
  {
   "cell_type": "markdown",
   "source": [
    "从中我们可以看出被调查者中，乡村学生使用wifi的比例小于城市的使用wifi比例。说明在当时孟加拉国城乡之间网络差异也较为明显，而在之前的分析中可以看到这一因素主要影响高适应性比例，而低适应性比例较为接近。所以，网络连接较大程度上影响学生适应程度的上限。"
   ],
   "metadata": {
    "collapsed": false
   }
  },
  {
   "cell_type": "markdown",
   "source": [
    "网络类型与居住地之间的关系"
   ],
   "metadata": {
    "collapsed": false
   }
  },
  {
   "cell_type": "code",
   "execution_count": 79,
   "outputs": [
    {
     "data": {
      "text/plain": "Location  Network Type\nNo        2G               12\n          3G               83\n          4G               90\nYes       2G                5\n          3G              285\n          4G              576\nName: Network Type, dtype: int64"
     },
     "execution_count": 79,
     "metadata": {},
     "output_type": "execute_result"
    }
   ],
   "source": [
    "Network = data.groupby(['Location', 'Network Type'])['Network Type'].count()\n",
    "Network"
   ],
   "metadata": {
    "collapsed": false
   }
  },
  {
   "cell_type": "code",
   "execution_count": 80,
   "outputs": [
    {
     "data": {
      "text/plain": "<Figure size 432x288 with 2 Axes>",
      "image/png": "[encoded data removed]"
     },
     "metadata": {},
     "output_type": "display_data"
    }
   ],
   "source": [
    "rural = [Network['No']['2G'], Network['No']['3G'], Network['No']['4G']]\n",
    "city = [Network['Yes']['2G'], Network['Yes']['3G'], Network['Yes']['4G']]\n",
    "plt.subplot(121)\n",
    "plt.pie(rural, labels=['2G', '3G', '4G'], autopct='%1.1f%%')\n",
    "plt.title(\"乡村\")\n",
    "\n",
    "\n",
    "plt.subplot(122)\n",
    "plt.pie(city, labels=['2G', '3G', '4G'], autopct='%1.1f%%')\n",
    "plt.title(\"城市\")\n",
    "plt.show()"
   ],
   "metadata": {
    "collapsed": false
   }
  },
  {
   "cell_type": "markdown",
   "source": [
    "从上述图表中我们可以看到城市学生使用4G的比例远高于乡村，与此同时城市学生几乎不使用2G，而根据之前的分析，网络类型同时影响着高适应性比例和低适应性比例。"
   ],
   "metadata": {
    "collapsed": false
   }
  },
  {
   "cell_type": "markdown",
   "source": [
    "从网络连接，网络类型与居住地之间的关系分析结果来看，城市的网络普及率以及网速都要好于乡村，虽然这些数据还不足以支撑这一结论，但是足以反映一些显示问题。\n",
    "- 网络作为老师和学生线上教学沟通的重要媒介，自然也就影响着学生的学习情况。优质的网络可以为学生提供一个良好的听课环境，从而使学生可以更加快地适应线上上课环境。\n",
    "- 乡村的网络普及率与网速和城市相比仍然有较大的提升空间。在线上学习期间，乡村学生被迫承受这样的差距。\n",
    "- 虽然不管使移动网络还是wifi，学生低适应比例相近，但是使用wifi的学生高适应性比例明显高于使用移动网络的学生，这也是教育资源不公平的一种体现，较贫困的学生难以得到最好的教育资源。\n",
    "\n",
    "综上，城乡之间的差距仍然存在，在经济情况和网络情况上都有体现，而这些差异在教育水平差异上也有所体现。所以要改变教育现状，提升教育公平，缩小城乡之间的差距，改善乡村生活环境是极为重要的。"
   ],
   "metadata": {
    "collapsed": false
   }
  },
  {
   "cell_type": "markdown",
   "source": [
    "学历层次与家庭经济情况的关系"
   ],
   "metadata": {
    "collapsed": false
   }
  },
  {
   "cell_type": "code",
   "execution_count": 98,
   "outputs": [
    {
     "data": {
      "text/plain": "Financial Condition  Education Level\nPoor                 College             12\n                     School             124\n                     University          68\nMid                  College            176\n                     School             291\n                     University         297\nRich                 School              51\n                     University          32\nName: Education Level, dtype: int64"
     },
     "execution_count": 98,
     "metadata": {},
     "output_type": "execute_result"
    }
   ],
   "source": [
    "Edu_Fin = data.groupby(['Financial Condition', 'Education Level'])['Education Level'].count()\n",
    "Edu_Fin = Edu_Fin.reindex(['Poor', 'Mid', 'Rich'], level='Financial Condition')\n",
    "Edu_Fin"
   ],
   "metadata": {
    "collapsed": false
   }
  },
  {
   "cell_type": "code",
   "execution_count": 101,
   "outputs": [
    {
     "data": {
      "text/plain": "<Figure size 720x720 with 3 Axes>",
      "image/png": "[encoded data removed]"
     },
     "metadata": {},
     "output_type": "display_data"
    }
   ],
   "source": [
    "poor = [Edu_Fin['Poor']['School'], Edu_Fin['Poor']['College'], Edu_Fin['Poor']['University']]\n",
    "mid = [Edu_Fin['Mid']['School'], Edu_Fin['Mid']['College'], Edu_Fin['Mid']['University']]\n",
    "rich = [Edu_Fin['Rich']['School'], 0, Edu_Fin['Rich']['University']]\n",
    "\n",
    "\n",
    "plt.figure(figsize=(10, 10))\n",
    "plt.subplot(131)\n",
    "plt.pie(poor, labels=['School', 'College', 'University'], autopct='%1.1f%%')\n",
    "plt.title('穷困')\n",
    "\n",
    "\n",
    "plt.subplot(132)\n",
    "plt.pie(mid, labels=['School', 'College', 'University'], autopct='%1.1f%%')\n",
    "plt.title('中等')\n",
    "\n",
    "\n",
    "plt.subplot(133)\n",
    "plt.pie(rich, labels=['School', 'College', 'University'], autopct='%1.1f%%')\n",
    "plt.title('富裕')\n",
    "plt.show()"
   ],
   "metadata": {
    "collapsed": false
   }
  },
  {
   "cell_type": "markdown",
   "source": [
    "仅考虑富裕和穷困，可以发现较为富裕的学生上综合性大学的比例较大，而几乎无人上职业学校。较为穷困的学生有一定比例上职业学校。综合性大学主要偏向于研究，而从这张图中可以看出从事深入研究的人中，富裕的学生比例还是较大，说明在经济水平能够起一定作用。"
   ],
   "metadata": {
    "collapsed": false
   }
  },
  {
   "cell_type": "markdown",
   "source": [
    "### LMS与学历层次，学院性质，地点，经济情况的关系"
   ],
   "metadata": {
    "collapsed": false
   }
  },
  {
   "cell_type": "markdown",
   "source": [
    "LMS与学历层次之间的关系"
   ],
   "metadata": {
    "collapsed": false
   }
  },
  {
   "cell_type": "code",
   "execution_count": 81,
   "outputs": [
    {
     "data": {
      "text/plain": "Education Level  Self Lms\nSchool           No          463\n                 Yes           3\nCollege          No          159\n                 Yes          29\nUniversity       No          221\n                 Yes         176\nName: Self Lms, dtype: int64"
     },
     "execution_count": 81,
     "metadata": {},
     "output_type": "execute_result"
    }
   ],
   "source": [
    "Lms_Education = data.groupby(['Education Level', 'Self Lms'])['Self Lms'].count()\n",
    "Lms_Education = Lms_Education.reindex(['School', 'College', 'University'], level='Education Level')\n",
    "Lms_Education"
   ],
   "metadata": {
    "collapsed": false
   }
  },
  {
   "cell_type": "code",
   "execution_count": 93,
   "outputs": [
    {
     "data": {
      "text/plain": "<Figure size 720x720 with 3 Axes>",
      "image/png": "[encoded data removed]"
     },
     "metadata": {},
     "output_type": "display_data"
    }
   ],
   "source": [
    "School = [Lms_Education['School']['No'], Lms_Education['School']['Yes']]\n",
    "College = [Lms_Education['College']['No'], Lms_Education['College']['Yes']]\n",
    "University = [Lms_Education['University']['No'], Lms_Education['University']['Yes']]\n",
    "\n",
    "plt.figure(figsize=(10, 10))\n",
    "plt.subplot(131)\n",
    "plt.pie(School, labels=['无学习系统', '有学习系统'], autopct='%1.1f%%')\n",
    "plt.title(\"中小学\")\n",
    "\n",
    "plt.subplot(132)\n",
    "plt.pie(College, labels=['无学习系统', '有学习系统'], autopct='%1.1f%%')\n",
    "plt.title(\"职业学校\")\n",
    "\n",
    "plt.subplot(133)\n",
    "plt.pie(University, labels=['无学习系统', '有学习系统'], autopct='%1.1f%%')\n",
    "plt.title(\"综合性大学\")\n",
    "plt.show()"
   ],
   "metadata": {
    "collapsed": false
   }
  },
  {
   "cell_type": "markdown",
   "source": [
    "从中可见综合性大学中有学习系统的占大多数，中小学几乎没有这样的系统。\n",
    "但是这里的数据结果有一些矛盾之处\n",
    "- 中小学生网课高适应性比例与综合性大学接近，且低适应性比例要小于综合性大学\n",
    "- 有学习系统的学生网课高适应性比例较大，低适应性比例较小\n",
    "\n",
    "这与图中所示的结果相悖。所以在这里对于数据可能出现的问题作出分析\n",
    "- 有学习系统的被调查者较少，所以对于学习系统的分析较不精准\n",
    "- 被调查者可能来自与同一所学校，所以在学习系统这一数据上有重复数据，使得结果不准确。"
   ],
   "metadata": {
    "collapsed": false
   }
  }
 ],
 "metadata": {
  "kernelspec": {
   "display_name": "Python 3",
   "language": "python",
   "name": "python3"
  },
  "language_info": {
   "codemirror_mode": {
    "name": "ipython",
    "version": 2
   },
   "file_extension": ".py",
   "mimetype": "text/x-python",
   "name": "python",
   "nbconvert_exporter": "python",
   "pygments_lexer": "ipython2",
   "version": "2.7.6"
  }
 },
 "nbformat": 4,
 "nbformat_minor": 0
}
