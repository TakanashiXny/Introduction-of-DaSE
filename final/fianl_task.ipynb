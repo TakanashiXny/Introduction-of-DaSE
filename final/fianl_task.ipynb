{
 "cells": [
  {
   "cell_type": "code",
   "execution_count": 261,
   "metadata": {
    "collapsed": true
   },
   "outputs": [],
   "source": [
    "import numpy as np\n",
    "import matplotlib.pyplot as plt\n",
    "import pandas as pd"
   ]
  },
  {
   "cell_type": "markdown",
   "source": [
    "1. 快速了解数据"
   ],
   "metadata": {
    "collapsed": false
   }
  },
  {
   "cell_type": "markdown",
   "source": [
    "用pandas加载csv文件"
   ],
   "metadata": {
    "collapsed": false
   }
  },
  {
   "cell_type": "code",
   "execution_count": 262,
   "outputs": [],
   "source": [
    "data = pd.read_csv('students_adaptability_level_online_education.csv', encoding='gb2312')"
   ],
   "metadata": {
    "collapsed": false
   }
  },
  {
   "cell_type": "markdown",
   "source": [
    "查看数据简单信息"
   ],
   "metadata": {
    "collapsed": false
   }
  },
  {
   "cell_type": "code",
   "execution_count": 263,
   "outputs": [
    {
     "data": {
      "text/plain": "               Num\ncount  1205.000000\nmean    603.000000\nstd     347.997845\nmin       1.000000\n25%     302.000000\n50%     603.000000\n75%     904.000000\nmax    1205.000000",
      "text/html": "<div>\n<style scoped>\n    .dataframe tbody tr th:only-of-type {\n        vertical-align: middle;\n    }\n\n    .dataframe tbody tr th {\n        vertical-align: top;\n    }\n\n    .dataframe thead th {\n        text-align: right;\n    }\n</style>\n<table border=\"1\" class=\"dataframe\">\n  <thead>\n    <tr style=\"text-align: right;\">\n      <th></th>\n      <th>Num</th>\n    </tr>\n  </thead>\n  <tbody>\n    <tr>\n      <th>count</th>\n      <td>1205.000000</td>\n    </tr>\n    <tr>\n      <th>mean</th>\n      <td>603.000000</td>\n    </tr>\n    <tr>\n      <th>std</th>\n      <td>347.997845</td>\n    </tr>\n    <tr>\n      <th>min</th>\n      <td>1.000000</td>\n    </tr>\n    <tr>\n      <th>25%</th>\n      <td>302.000000</td>\n    </tr>\n    <tr>\n      <th>50%</th>\n      <td>603.000000</td>\n    </tr>\n    <tr>\n      <th>75%</th>\n      <td>904.000000</td>\n    </tr>\n    <tr>\n      <th>max</th>\n      <td>1205.000000</td>\n    </tr>\n  </tbody>\n</table>\n</div>"
     },
     "execution_count": 263,
     "metadata": {},
     "output_type": "execute_result"
    }
   ],
   "source": [
    "data.describe()"
   ],
   "metadata": {
    "collapsed": false
   }
  },
  {
   "cell_type": "markdown",
   "source": [
    "删除课程时长为零的行"
   ],
   "metadata": {
    "collapsed": false
   }
  },
  {
   "cell_type": "code",
   "execution_count": 264,
   "outputs": [
    {
     "data": {
      "text/plain": "               Num\ncount  1051.000000\nmean    604.031399\nstd     347.891239\nmin       1.000000\n25%     302.500000\n50%     603.000000\n75%     901.500000\nmax    1205.000000",
      "text/html": "<div>\n<style scoped>\n    .dataframe tbody tr th:only-of-type {\n        vertical-align: middle;\n    }\n\n    .dataframe tbody tr th {\n        vertical-align: top;\n    }\n\n    .dataframe thead th {\n        text-align: right;\n    }\n</style>\n<table border=\"1\" class=\"dataframe\">\n  <thead>\n    <tr style=\"text-align: right;\">\n      <th></th>\n      <th>Num</th>\n    </tr>\n  </thead>\n  <tbody>\n    <tr>\n      <th>count</th>\n      <td>1051.000000</td>\n    </tr>\n    <tr>\n      <th>mean</th>\n      <td>604.031399</td>\n    </tr>\n    <tr>\n      <th>std</th>\n      <td>347.891239</td>\n    </tr>\n    <tr>\n      <th>min</th>\n      <td>1.000000</td>\n    </tr>\n    <tr>\n      <th>25%</th>\n      <td>302.500000</td>\n    </tr>\n    <tr>\n      <th>50%</th>\n      <td>603.000000</td>\n    </tr>\n    <tr>\n      <th>75%</th>\n      <td>901.500000</td>\n    </tr>\n    <tr>\n      <th>max</th>\n      <td>1205.000000</td>\n    </tr>\n  </tbody>\n</table>\n</div>"
     },
     "execution_count": 264,
     "metadata": {},
     "output_type": "execute_result"
    }
   ],
   "source": [
    "data = data.drop(data[data['Class Duration'] == '0'].index)\n",
    "data.describe()"
   ],
   "metadata": {
    "collapsed": false
   }
  },
  {
   "cell_type": "markdown",
   "source": [
    "删除部分字段"
   ],
   "metadata": {
    "collapsed": false
   }
  },
  {
   "cell_type": "code",
   "execution_count": 265,
   "outputs": [
    {
     "data": {
      "text/plain": "       Gender    Age Education Level Institution Type IT Student Location  \\\ncount    1051   1051            1051             1051       1051     1051   \nunique      2      6               3                2          2        2   \ntop       Boy  21-25          School   Non Government         No      Yes   \nfreq      576    328             466              777        763      866   \n\n       Financial Condition Internet Type Network Type Class Duration Self Lms  \\\ncount                 1051          1051         1051           1051     1051   \nunique                   3             2            3              2        2   \ntop                    Mid   Mobile Data           4G           1月3日       No   \nfreq                   764           586          666            840      843   \n\n        Device Adaptivity Level  \ncount     1051             1051  \nunique       3                3  \ntop     Mobile         Moderate  \nfreq       865              615  ",
      "text/html": "<div>\n<style scoped>\n    .dataframe tbody tr th:only-of-type {\n        vertical-align: middle;\n    }\n\n    .dataframe tbody tr th {\n        vertical-align: top;\n    }\n\n    .dataframe thead th {\n        text-align: right;\n    }\n</style>\n<table border=\"1\" class=\"dataframe\">\n  <thead>\n    <tr style=\"text-align: right;\">\n      <th></th>\n      <th>Gender</th>\n      <th>Age</th>\n      <th>Education Level</th>\n      <th>Institution Type</th>\n      <th>IT Student</th>\n      <th>Location</th>\n      <th>Financial Condition</th>\n      <th>Internet Type</th>\n      <th>Network Type</th>\n      <th>Class Duration</th>\n      <th>Self Lms</th>\n      <th>Device</th>\n      <th>Adaptivity Level</th>\n    </tr>\n  </thead>\n  <tbody>\n    <tr>\n      <th>count</th>\n      <td>1051</td>\n      <td>1051</td>\n      <td>1051</td>\n      <td>1051</td>\n      <td>1051</td>\n      <td>1051</td>\n      <td>1051</td>\n      <td>1051</td>\n      <td>1051</td>\n      <td>1051</td>\n      <td>1051</td>\n      <td>1051</td>\n      <td>1051</td>\n    </tr>\n    <tr>\n      <th>unique</th>\n      <td>2</td>\n      <td>6</td>\n      <td>3</td>\n      <td>2</td>\n      <td>2</td>\n      <td>2</td>\n      <td>3</td>\n      <td>2</td>\n      <td>3</td>\n      <td>2</td>\n      <td>2</td>\n      <td>3</td>\n      <td>3</td>\n    </tr>\n    <tr>\n      <th>top</th>\n      <td>Boy</td>\n      <td>21-25</td>\n      <td>School</td>\n      <td>Non Government</td>\n      <td>No</td>\n      <td>Yes</td>\n      <td>Mid</td>\n      <td>Mobile Data</td>\n      <td>4G</td>\n      <td>1月3日</td>\n      <td>No</td>\n      <td>Mobile</td>\n      <td>Moderate</td>\n    </tr>\n    <tr>\n      <th>freq</th>\n      <td>576</td>\n      <td>328</td>\n      <td>466</td>\n      <td>777</td>\n      <td>763</td>\n      <td>866</td>\n      <td>764</td>\n      <td>586</td>\n      <td>666</td>\n      <td>840</td>\n      <td>843</td>\n      <td>865</td>\n      <td>615</td>\n    </tr>\n  </tbody>\n</table>\n</div>"
     },
     "execution_count": 265,
     "metadata": {},
     "output_type": "execute_result"
    }
   ],
   "source": [
    "data = data.drop(columns=['Num', 'Load-shedding'])\n",
    "data.describe()"
   ],
   "metadata": {
    "collapsed": false
   }
  },
  {
   "cell_type": "markdown",
   "source": [
    "修改部分数据"
   ],
   "metadata": {
    "collapsed": false
   }
  },
  {
   "cell_type": "code",
   "execution_count": 266,
   "outputs": [],
   "source": [
    "data.loc[data['Age'] == '11月15日', 'Age'] = '11-15'\n",
    "data.loc[data['Age'] == '6月10日', 'Age'] = '6-10'\n",
    "data.loc[data['Age'] == '1月5日', 'Age'] = '1-5'\n",
    "data.loc[data['Class Duration'] == '1月3日', 'Class Duration'] = '1-3'\n",
    "data.loc[data['Class Duration'] == '3月6日', 'Class Duration'] = '3-6'"
   ],
   "metadata": {
    "collapsed": false
   }
  },
  {
   "cell_type": "markdown",
   "source": [
    "检查字段取值范围"
   ],
   "metadata": {
    "collapsed": false
   }
  },
  {
   "cell_type": "code",
   "execution_count": 267,
   "outputs": [
    {
     "name": "stdout",
     "output_type": "stream",
     "text": [
      "['Boy' 'Girl']\n"
     ]
    }
   ],
   "source": [
    "print(data['Gender'].unique())"
   ],
   "metadata": {
    "collapsed": false
   }
  },
  {
   "cell_type": "code",
   "execution_count": 268,
   "outputs": [
    {
     "name": "stdout",
     "output_type": "stream",
     "text": [
      "['21-25' '16-20' '11-15' '6-10' '1-5' '26-30']\n"
     ]
    }
   ],
   "source": [
    "print(data['Age'].unique())"
   ],
   "metadata": {
    "collapsed": false
   }
  },
  {
   "cell_type": "code",
   "execution_count": 269,
   "outputs": [
    {
     "name": "stdout",
     "output_type": "stream",
     "text": [
      "['University' 'College' 'School']\n"
     ]
    }
   ],
   "source": [
    "print(data['Education Level'].unique())"
   ],
   "metadata": {
    "collapsed": false
   }
  },
  {
   "cell_type": "code",
   "execution_count": 270,
   "outputs": [
    {
     "name": "stdout",
     "output_type": "stream",
     "text": [
      "['Non Government' 'Government']\n"
     ]
    }
   ],
   "source": [
    "print(data['Institution Type'].unique())"
   ],
   "metadata": {
    "collapsed": false
   }
  },
  {
   "cell_type": "code",
   "execution_count": 271,
   "outputs": [
    {
     "name": "stdout",
     "output_type": "stream",
     "text": [
      "['No' 'Yes']\n"
     ]
    }
   ],
   "source": [
    "print(data['IT Student'].unique())"
   ],
   "metadata": {
    "collapsed": false
   }
  },
  {
   "cell_type": "code",
   "execution_count": 272,
   "outputs": [
    {
     "name": "stdout",
     "output_type": "stream",
     "text": [
      "['Yes' 'No']\n"
     ]
    }
   ],
   "source": [
    "print(data['Location'].unique())"
   ],
   "metadata": {
    "collapsed": false
   }
  },
  {
   "cell_type": "code",
   "execution_count": 273,
   "outputs": [
    {
     "name": "stdout",
     "output_type": "stream",
     "text": [
      "['Mid' 'Poor' 'Rich']\n"
     ]
    }
   ],
   "source": [
    "print(data['Financial Condition'].unique())"
   ],
   "metadata": {
    "collapsed": false
   }
  },
  {
   "cell_type": "code",
   "execution_count": 274,
   "outputs": [
    {
     "name": "stdout",
     "output_type": "stream",
     "text": [
      "['Wifi' 'Mobile Data']\n"
     ]
    }
   ],
   "source": [
    "print(data['Internet Type'].unique())"
   ],
   "metadata": {
    "collapsed": false
   }
  },
  {
   "cell_type": "code",
   "execution_count": 275,
   "outputs": [
    {
     "name": "stdout",
     "output_type": "stream",
     "text": [
      "['4G' '3G' '2G']\n"
     ]
    }
   ],
   "source": [
    "print(data['Network Type'].unique())"
   ],
   "metadata": {
    "collapsed": false
   }
  },
  {
   "cell_type": "code",
   "execution_count": 276,
   "outputs": [
    {
     "name": "stdout",
     "output_type": "stream",
     "text": [
      "['3-6' '1-3']\n"
     ]
    }
   ],
   "source": [
    "print(data['Class Duration'].unique())"
   ],
   "metadata": {
    "collapsed": false
   }
  },
  {
   "cell_type": "code",
   "execution_count": 294,
   "outputs": [
    {
     "name": "stdout",
     "output_type": "stream",
     "text": [
      "['No' 'Yes']\n"
     ]
    }
   ],
   "source": [
    "print(data['Self Lms'].unique())"
   ],
   "metadata": {
    "collapsed": false
   }
  },
  {
   "cell_type": "code",
   "execution_count": 295,
   "outputs": [
    {
     "name": "stdout",
     "output_type": "stream",
     "text": [
      "['Tab' 'Mobile' 'Computer']\n"
     ]
    }
   ],
   "source": [
    "print(data['Device'].unique())"
   ],
   "metadata": {
    "collapsed": false
   }
  },
  {
   "cell_type": "code",
   "execution_count": 277,
   "outputs": [
    {
     "name": "stdout",
     "output_type": "stream",
     "text": [
      "['Moderate' 'Low' 'High']\n"
     ]
    }
   ],
   "source": [
    "print(data['Adaptivity Level'].unique())"
   ],
   "metadata": {
    "collapsed": false
   }
  },
  {
   "cell_type": "markdown",
   "source": [
    "2. 数据分析"
   ],
   "metadata": {
    "collapsed": false
   }
  },
  {
   "cell_type": "markdown",
   "source": [
    "学生对网课自适应情况"
   ],
   "metadata": {
    "collapsed": false
   }
  },
  {
   "cell_type": "code",
   "execution_count": 278,
   "outputs": [
    {
     "name": "stdout",
     "output_type": "stream",
     "text": [
      "Adaptivity Level\n",
      "High        100\n",
      "Moderate    615\n",
      "Low         336\n",
      "Name: Adaptivity Level, dtype: int64\n"
     ]
    }
   ],
   "source": [
    "Adaptivity = data.groupby('Adaptivity Level')['Adaptivity Level'].count()\n",
    "Adaptivity = Adaptivity.reindex(['High', 'Moderate', 'Low'])\n",
    "print(Adaptivity)"
   ],
   "metadata": {
    "collapsed": false
   }
  },
  {
   "cell_type": "markdown",
   "source": [
    "学生性别分布"
   ],
   "metadata": {
    "collapsed": false
   }
  },
  {
   "cell_type": "code",
   "execution_count": 279,
   "outputs": [
    {
     "name": "stdout",
     "output_type": "stream",
     "text": [
      "Gender\n",
      "Boy     576\n",
      "Girl    475\n",
      "Name: Gender, dtype: int64\n"
     ]
    }
   ],
   "source": [
    "Gender = data.groupby('Gender')['Gender'].count()\n",
    "print(Gender)"
   ],
   "metadata": {
    "collapsed": false
   }
  },
  {
   "cell_type": "markdown",
   "source": [
    "学生年龄分布"
   ],
   "metadata": {
    "collapsed": false
   }
  },
  {
   "cell_type": "code",
   "execution_count": 280,
   "outputs": [
    {
     "name": "stdout",
     "output_type": "stream",
     "text": [
      "Age\n",
      "1-5       78\n",
      "6-10      37\n",
      "11-15    319\n",
      "16-20    244\n",
      "21-25    328\n",
      "26-30     45\n",
      "Name: Age, dtype: int64\n"
     ]
    }
   ],
   "source": [
    "Age = data.groupby('Age')['Age'].count()\n",
    "Age = Age.reindex(['1-5', '6-10', '11-15', '16-20', '21-25', '26-30'])\n",
    "print(Age)"
   ],
   "metadata": {
    "collapsed": false
   }
  },
  {
   "cell_type": "markdown",
   "source": [
    "学生教育水平分布"
   ],
   "metadata": {
    "collapsed": false
   }
  },
  {
   "cell_type": "code",
   "execution_count": 281,
   "outputs": [
    {
     "name": "stdout",
     "output_type": "stream",
     "text": [
      "Education Level\n",
      "College       188\n",
      "School        466\n",
      "University    397\n",
      "Name: Education Level, dtype: int64\n"
     ]
    }
   ],
   "source": [
    "Education = data.groupby('Education Level')['Education Level'].count()\n",
    "print(Education)"
   ],
   "metadata": {
    "collapsed": false
   }
  },
  {
   "cell_type": "markdown",
   "source": [
    "所在学校是否属于政府"
   ],
   "metadata": {
    "collapsed": false
   }
  },
  {
   "cell_type": "code",
   "execution_count": 297,
   "outputs": [
    {
     "name": "stdout",
     "output_type": "stream",
     "text": [
      "Institution Type\n",
      "Government        274\n",
      "Non Government    777\n",
      "Name: Institution Type, dtype: int64\n"
     ]
    }
   ],
   "source": [
    "Government = data.groupby('Institution Type')['Institution Type'].count()\n",
    "print(Government)"
   ],
   "metadata": {
    "collapsed": false
   }
  },
  {
   "cell_type": "markdown",
   "source": [
    "学生是否为IT学生"
   ],
   "metadata": {
    "collapsed": false
   }
  },
  {
   "cell_type": "code",
   "execution_count": 298,
   "outputs": [
    {
     "name": "stdout",
     "output_type": "stream",
     "text": [
      "IT Student\n",
      "No     763\n",
      "Yes    288\n",
      "Name: IT Student, dtype: int64\n"
     ]
    }
   ],
   "source": [
    "IT = data.groupby('IT Student')['IT Student'].count()\n",
    "print(IT)"
   ],
   "metadata": {
    "collapsed": false
   }
  },
  {
   "cell_type": "markdown",
   "source": [
    "学生居住处分布(Yes指城市)"
   ],
   "metadata": {
    "collapsed": false
   }
  },
  {
   "cell_type": "code",
   "execution_count": 299,
   "outputs": [
    {
     "name": "stdout",
     "output_type": "stream",
     "text": [
      "Location\n",
      "No     185\n",
      "Yes    866\n",
      "Name: Location, dtype: int64\n"
     ]
    }
   ],
   "source": [
    "Town = data.groupby('Location')['Location'].count()\n",
    "print(Town)"
   ],
   "metadata": {
    "collapsed": false
   }
  },
  {
   "cell_type": "markdown",
   "source": [
    "学生经济状况分布"
   ],
   "metadata": {
    "collapsed": false
   }
  },
  {
   "cell_type": "code",
   "execution_count": 282,
   "outputs": [
    {
     "name": "stdout",
     "output_type": "stream",
     "text": [
      "Financial Condition\n",
      "Mid     764\n",
      "Poor    204\n",
      "Rich     83\n",
      "Name: Financial Condition, dtype: int64\n"
     ]
    }
   ],
   "source": [
    "Finance = data.groupby('Financial Condition')['Financial Condition'].count()\n",
    "print(Finance)"
   ],
   "metadata": {
    "collapsed": false
   }
  },
  {
   "cell_type": "markdown",
   "source": [
    "学生上课网络类型"
   ],
   "metadata": {
    "collapsed": false
   }
  },
  {
   "cell_type": "code",
   "execution_count": 283,
   "outputs": [
    {
     "name": "stdout",
     "output_type": "stream",
     "text": [
      "Internet Type\n",
      "Mobile Data    586\n",
      "Wifi           465\n",
      "Name: Internet Type, dtype: int64\n"
     ]
    }
   ],
   "source": [
    "Internet = data.groupby('Internet Type')['Internet Type'].count()\n",
    "print(Internet)"
   ],
   "metadata": {
    "collapsed": false
   }
  },
  {
   "cell_type": "markdown",
   "source": [
    "学生网络连接类型"
   ],
   "metadata": {
    "collapsed": false
   }
  },
  {
   "cell_type": "code",
   "execution_count": 284,
   "outputs": [
    {
     "name": "stdout",
     "output_type": "stream",
     "text": [
      "Network Type\n",
      "2G     17\n",
      "3G    368\n",
      "4G    666\n",
      "Name: Network Type, dtype: int64\n"
     ]
    }
   ],
   "source": [
    "Network = data.groupby('Network Type')['Network Type'].count()\n",
    "print(Network)"
   ],
   "metadata": {
    "collapsed": false
   }
  },
  {
   "cell_type": "markdown",
   "source": [
    "课程时长"
   ],
   "metadata": {
    "collapsed": false
   }
  },
  {
   "cell_type": "code",
   "execution_count": 285,
   "outputs": [
    {
     "name": "stdout",
     "output_type": "stream",
     "text": [
      "Class Duration\n",
      "1-3    840\n",
      "3-6    211\n",
      "Name: Class Duration, dtype: int64\n"
     ]
    }
   ],
   "source": [
    "Duration = data.groupby('Class Duration')['Class Duration'].count()\n",
    "print(Duration)"
   ],
   "metadata": {
    "collapsed": false
   }
  },
  {
   "cell_type": "markdown",
   "source": [
    "学校是否有自己的学习系统"
   ],
   "metadata": {
    "collapsed": false
   }
  },
  {
   "cell_type": "code",
   "execution_count": 300,
   "outputs": [
    {
     "name": "stdout",
     "output_type": "stream",
     "text": [
      "Self Lms\n",
      "No     843\n",
      "Yes    208\n",
      "Name: Self Lms, dtype: int64\n"
     ]
    }
   ],
   "source": [
    "LMS = data.groupby('Self Lms')['Self Lms'].count()\n",
    "print(LMS)"
   ],
   "metadata": {
    "collapsed": false
   }
  },
  {
   "cell_type": "markdown",
   "source": [
    "学生使用的设备分布"
   ],
   "metadata": {
    "collapsed": false
   }
  },
  {
   "cell_type": "code",
   "execution_count": 301,
   "outputs": [
    {
     "name": "stdout",
     "output_type": "stream",
     "text": [
      "Device\n",
      "Computer    156\n",
      "Mobile      865\n",
      "Tab          30\n",
      "Name: Device, dtype: int64\n"
     ]
    }
   ],
   "source": [
    "Device = data.groupby('Device')['Device'].count()\n",
    "print(Device)"
   ],
   "metadata": {
    "collapsed": false
   }
  },
  {
   "cell_type": "code",
   "execution_count": 286,
   "outputs": [],
   "source": [
    "Order = ['High', 'Moderate', 'Low']"
   ],
   "metadata": {
    "collapsed": false
   }
  },
  {
   "cell_type": "markdown",
   "source": [
    "自适应程度与性别的关系"
   ],
   "metadata": {
    "collapsed": false
   }
  },
  {
   "cell_type": "code",
   "execution_count": 287,
   "outputs": [
    {
     "name": "stdout",
     "output_type": "stream",
     "text": [
      "Adaptivity Level  Gender\n",
      "High              Boy        71\n",
      "                  Girl       29\n",
      "Moderate          Boy       337\n",
      "                  Girl      278\n",
      "Low               Boy       168\n",
      "                  Girl      168\n",
      "Name: Adaptivity Level, dtype: int64\n"
     ]
    }
   ],
   "source": [
    "# Gender_Adapt = data.loc[data['Adaptivity Level'] == 'High'].groupby('Gender')['Adaptivity Level'].count()\n",
    "Gender_Adapt = data.groupby(['Adaptivity Level', 'Gender'])['Adaptivity Level'].count()\n",
    "Gender_Adapt = Gender_Adapt.reindex(Order, level='Adaptivity Level')\n",
    "print(Gender_Adapt)"
   ],
   "metadata": {
    "collapsed": false
   }
  },
  {
   "cell_type": "markdown",
   "source": [
    "自适应程度与教育程度的关系"
   ],
   "metadata": {
    "collapsed": false
   }
  },
  {
   "cell_type": "code",
   "execution_count": 288,
   "outputs": [
    {
     "name": "stdout",
     "output_type": "stream",
     "text": [
      "Adaptivity Level  Education Level\n",
      "High              School              47\n",
      "                  College              3\n",
      "                  University          50\n",
      "Moderate          School             301\n",
      "                  College             94\n",
      "                  University         220\n",
      "Low               School             118\n",
      "                  College             91\n",
      "                  University         127\n",
      "Name: Adaptivity Level, dtype: int64\n"
     ]
    }
   ],
   "source": [
    "Education_Adapt = data.groupby(['Adaptivity Level', 'Education Level'])['Adaptivity Level'].count()\n",
    "Education_Adapt = Education_Adapt.reindex(Order, level='Adaptivity Level')\n",
    "Education_Adapt = Education_Adapt.reindex(['School', 'College', 'University'], level='Education Level')\n",
    "print(Education_Adapt)"
   ],
   "metadata": {
    "collapsed": false
   }
  },
  {
   "cell_type": "markdown",
   "source": [
    "自适应程度与学院性质的关系"
   ],
   "metadata": {
    "collapsed": false
   }
  },
  {
   "cell_type": "code",
   "execution_count": 302,
   "outputs": [
    {
     "name": "stdout",
     "output_type": "stream",
     "text": [
      "Adaptivity Level  Institution Type\n",
      "High              Government           20\n",
      "                  Non Government       80\n",
      "Moderate          Government          122\n",
      "                  Non Government      493\n",
      "Low               Government          132\n",
      "                  Non Government      204\n",
      "Name: Adaptivity Level, dtype: int64\n"
     ]
    }
   ],
   "source": [
    "Government_Adapt = data.groupby(['Adaptivity Level', 'Institution Type'])['Adaptivity Level'].count()\n",
    "Government_Adapt = Government_Adapt.reindex(Order, level='Adaptivity Level')\n",
    "print(Government_Adapt)"
   ],
   "metadata": {
    "collapsed": false
   }
  },
  {
   "cell_type": "markdown",
   "source": [
    "自适应程度与学生是否学习计算机的关系"
   ],
   "metadata": {
    "collapsed": false
   }
  },
  {
   "cell_type": "code",
   "execution_count": 303,
   "outputs": [
    {
     "name": "stdout",
     "output_type": "stream",
     "text": [
      "Adaptivity Level  IT Student\n",
      "High              No             67\n",
      "                  Yes            33\n",
      "Moderate          No            435\n",
      "                  Yes           180\n",
      "Low               No            261\n",
      "                  Yes            75\n",
      "Name: Adaptivity Level, dtype: int64\n"
     ]
    }
   ],
   "source": [
    "IT_Adapt = data.groupby(['Adaptivity Level', 'IT Student'])['Adaptivity Level'].count()\n",
    "IT_Adapt = IT_Adapt.reindex(Order, level='Adaptivity Level')\n",
    "print(IT_Adapt)"
   ],
   "metadata": {
    "collapsed": false
   }
  },
  {
   "cell_type": "markdown",
   "source": [
    "自适应程度与学生居住地的关系"
   ],
   "metadata": {
    "collapsed": false
   }
  },
  {
   "cell_type": "code",
   "execution_count": 304,
   "outputs": [
    {
     "name": "stdout",
     "output_type": "stream",
     "text": [
      "Adaptivity Level  Location\n",
      "High              No            8\n",
      "                  Yes          92\n",
      "Moderate          No           83\n",
      "                  Yes         532\n",
      "Low               No           94\n",
      "                  Yes         242\n",
      "Name: Adaptivity Level, dtype: int64\n"
     ]
    }
   ],
   "source": [
    "Location_Adapt = data.groupby(['Adaptivity Level', 'Location'])['Adaptivity Level'].count()\n",
    "Location_Adapt = Location_Adapt.reindex(Order, level='Adaptivity Level')\n",
    "print(Location_Adapt)"
   ],
   "metadata": {
    "collapsed": false
   }
  },
  {
   "cell_type": "markdown",
   "source": [
    "自适应程度与经济情况的关系"
   ],
   "metadata": {
    "collapsed": false
   }
  },
  {
   "cell_type": "code",
   "execution_count": 289,
   "outputs": [
    {
     "name": "stdout",
     "output_type": "stream",
     "text": [
      "Adaptivity Level  Financial Condition\n",
      "High              Poor                    22\n",
      "                  Mid                     36\n",
      "                  Rich                    42\n",
      "Moderate          Poor                    91\n",
      "                  Mid                    491\n",
      "                  Rich                    33\n",
      "Low               Poor                    91\n",
      "                  Mid                    237\n",
      "                  Rich                     8\n",
      "Name: Adaptivity Level, dtype: int64\n"
     ]
    }
   ],
   "source": [
    "Finance_Adapt = data.groupby(['Adaptivity Level', 'Financial Condition'])['Adaptivity Level'].count()\n",
    "Finance_Adapt = Finance_Adapt.reindex(Order, level='Adaptivity Level')\n",
    "Finance_Adapt = Finance_Adapt.reindex(['Poor', 'Mid', 'Rich'], level='Financial Condition')\n",
    "print(Finance_Adapt)"
   ],
   "metadata": {
    "collapsed": false
   }
  },
  {
   "cell_type": "markdown",
   "source": [
    "自适应程度与网络类型的关系"
   ],
   "metadata": {
    "collapsed": false
   }
  },
  {
   "cell_type": "code",
   "execution_count": 290,
   "outputs": [
    {
     "name": "stdout",
     "output_type": "stream",
     "text": [
      "Adaptivity Level  Internet Type\n",
      "High              Mobile Data       36\n",
      "                  Wifi              64\n",
      "Moderate          Mobile Data      367\n",
      "                  Wifi             248\n",
      "Low               Mobile Data      183\n",
      "                  Wifi             153\n",
      "Name: Adaptivity Level, dtype: int64\n"
     ]
    }
   ],
   "source": [
    "Internet_Adapt = data.groupby(['Adaptivity Level', 'Internet Type'])['Adaptivity Level'].count()\n",
    "Internet_Adapt = Internet_Adapt.reindex(Order, level='Adaptivity Level')\n",
    "print(Internet_Adapt)"
   ],
   "metadata": {
    "collapsed": false
   }
  },
  {
   "cell_type": "markdown",
   "source": [
    "自适应程度与网络连接的关系"
   ],
   "metadata": {
    "collapsed": false
   }
  },
  {
   "cell_type": "code",
   "execution_count": 291,
   "outputs": [
    {
     "name": "stdout",
     "output_type": "stream",
     "text": [
      "Adaptivity Level  Network Type\n",
      "High              3G               22\n",
      "                  4G               78\n",
      "Moderate          2G                3\n",
      "                  3G              203\n",
      "                  4G              409\n",
      "Low               2G               14\n",
      "                  3G              143\n",
      "                  4G              179\n",
      "Name: Adaptivity Level, dtype: int64\n"
     ]
    }
   ],
   "source": [
    "Network_Adapt = data.groupby(['Adaptivity Level', 'Network Type'])['Adaptivity Level'].count()\n",
    "Network_Adapt = Network_Adapt.reindex(Order, level='Adaptivity Level')\n",
    "print(Network_Adapt)"
   ],
   "metadata": {
    "collapsed": false
   }
  },
  {
   "cell_type": "markdown",
   "source": [
    "自适应程度与课程时长的关系"
   ],
   "metadata": {
    "collapsed": false
   }
  },
  {
   "cell_type": "code",
   "execution_count": 305,
   "outputs": [
    {
     "name": "stdout",
     "output_type": "stream",
     "text": [
      "Adaptivity Level  Class Duration\n",
      "High              1-3                82\n",
      "                  3-6                18\n",
      "Moderate          1-3               468\n",
      "                  3-6               147\n",
      "Low               1-3               290\n",
      "                  3-6                46\n",
      "Name: Adaptivity Level, dtype: int64\n"
     ]
    }
   ],
   "source": [
    "Duration_Adapt = data.groupby(['Adaptivity Level', 'Class Duration'])['Adaptivity Level'].count()\n",
    "Duration_Adapt = Duration_Adapt.reindex(Order, level='Adaptivity Level')\n",
    "print(Duration_Adapt)"
   ],
   "metadata": {
    "collapsed": false
   }
  },
  {
   "cell_type": "markdown",
   "source": [
    "自适应程度与学校是否有学习系统的关系"
   ],
   "metadata": {
    "collapsed": false
   }
  },
  {
   "cell_type": "code",
   "execution_count": 306,
   "outputs": [
    {
     "name": "stdout",
     "output_type": "stream",
     "text": [
      "Adaptivity Level  Self Lms\n",
      "High              No           70\n",
      "                  Yes          30\n",
      "Moderate          No          487\n",
      "                  Yes         128\n",
      "Low               No          286\n",
      "                  Yes          50\n",
      "Name: Adaptivity Level, dtype: int64\n"
     ]
    }
   ],
   "source": [
    "LMS_Adapt = data.groupby(['Adaptivity Level', 'Self Lms'])['Adaptivity Level'].count()\n",
    "LMS_Adapt = LMS_Adapt.reindex(Order, level='Adaptivity Level')\n",
    "print(LMS_Adapt)"
   ],
   "metadata": {
    "collapsed": false
   }
  },
  {
   "cell_type": "markdown",
   "source": [
    "自适应程度与设备的关系"
   ],
   "metadata": {
    "collapsed": false
   }
  },
  {
   "cell_type": "code",
   "execution_count": 307,
   "outputs": [
    {
     "name": "stdout",
     "output_type": "stream",
     "text": [
      "Adaptivity Level  Device  \n",
      "High              Computer     30\n",
      "                  Mobile       68\n",
      "                  Tab           2\n",
      "Moderate          Computer     92\n",
      "                  Mobile      497\n",
      "                  Tab          26\n",
      "Low               Computer     34\n",
      "                  Mobile      300\n",
      "                  Tab           2\n",
      "Name: Adaptivity Level, dtype: int64\n"
     ]
    }
   ],
   "source": [
    "Device_Adapt = data.groupby(['Adaptivity Level', 'Device'])['Adaptivity Level'].count()\n",
    "Device_Adapt = Device_Adapt.reindex(Order, level='Adaptivity Level')\n",
    "print(Device_Adapt)"
   ],
   "metadata": {
    "collapsed": false
   }
  },
  {
   "cell_type": "markdown",
   "source": [
    "3. 数据可视化"
   ],
   "metadata": {
    "collapsed": false
   }
  },
  {
   "cell_type": "markdown",
   "source": [
    "显示学生自适应总体情况"
   ],
   "metadata": {
    "collapsed": false
   }
  },
  {
   "cell_type": "code",
   "execution_count": 293,
   "outputs": [
    {
     "data": {
      "text/plain": "<Figure size 432x288 with 1 Axes>",
      "image/png": "[encoded data removed]"
     },
     "metadata": {},
     "output_type": "display_data"
    }
   ],
   "source": [
    "plt.pie(Adaptivity, labels=Order, autopct='%.1f%%')\n",
    "plt.show()"
   ],
   "metadata": {
    "collapsed": false
   }
  },
  {
   "cell_type": "code",
   "execution_count": 293,
   "outputs": [],
   "source": [],
   "metadata": {
    "collapsed": false
   }
  }
 ],
 "metadata": {
  "kernelspec": {
   "display_name": "Python 3",
   "language": "python",
   "name": "python3"
  },
  "language_info": {
   "codemirror_mode": {
    "name": "ipython",
    "version": 2
   },
   "file_extension": ".py",
   "mimetype": "text/x-python",
   "name": "python",
   "nbconvert_exporter": "python",
   "pygments_lexer": "ipython2",
   "version": "2.7.6"
  }
 },
 "nbformat": 4,
 "nbformat_minor": 0
}
