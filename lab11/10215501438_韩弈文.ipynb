{
 "cells": [
  {
   "cell_type": "code",
   "execution_count": null,
   "outputs": [],
   "source": [
    "import pymysql\n",
    "import pandas as pd\n",
    "import csv\n",
    "from sklearn.preprocessing import MinMaxScaler\n",
    "from sklearn.model_selection import train_test_split\n",
    "from sklearn.linear_model import LinearRegression\n",
    "from sklearn.metrics import mean_squared_error\n",
    "scale = MinMaxScaler()\n"
   ],
   "metadata": {
    "collapsed": false
   }
  },
  {
   "cell_type": "markdown",
   "source": [
    "在实验练习08中我们使用的数据为两个城市在不同因素影响下某小时共享单车租用的数量。现在我们利用该数据集构建一个回归预测模型，根据数据中的某些属性预测该时段内的单车租用数量，该表所有值均为整型数据，表结构为：\n",
    "\n",
    "id 记录编号，无其他意义\n",
    "city 城市代号，0为北京，1为上海\n",
    "hour 小时，代表时间\n",
    "is_workday 是否为工作日，0为否，1为是\n",
    "temp_air 大气温度，单位为摄氏度\n",
    "temp_body 体感温度，单位为摄氏度\n",
    "weather 天气代号，1为晴天，2为多云或阴天，3为雨天或雪天\n",
    "wind 风级，数值越大代表风速越大\n",
    "y 该小时内共享单车被租用的数量"
   ],
   "metadata": {
    "collapsed": false
   }
  },
  {
   "cell_type": "code",
   "execution_count": null,
   "outputs": [],
   "source": [
    "db = pymysql.connect(host=\"cdb-r2g8flnu.bj.tencentcdb.com\", port=10209,\n",
    "                     user=\"dase2020\", password=\"dase2020\", database=\"dase_intro_2020\")\n",
    "cursor = db.cursor()  # 使用 cursor() 方法创建一个游标对象 cursor,执行SQL语句都是通过游标对象实现\n",
    "\n",
    "\n",
    "sql = \"SELECT * FROM bicycle_train\"\n",
    "cursor.execute(sql)\n",
    "result = cursor.fetchall()"
   ],
   "metadata": {
    "collapsed": false
   }
  },
  {
   "cell_type": "markdown",
   "source": [
    "数据获取：数据集已下载至bike.csv文件中，请使用pandas库读取该文件。\n",
    "提示：原始数据集共10,000条数据。"
   ],
   "metadata": {
    "collapsed": false
   }
  },
  {
   "cell_type": "code",
   "execution_count": null,
   "outputs": [],
   "source": [
    "lst = []\n",
    "for i in result:\n",
    "    lst.append(list(i))\n",
    "\n",
    "\n",
    "header = [\"id\", \"city\", \"hour\", \"is_workday\", \"weather\", \"temp_1\", \"temp_2\", \"wind\", \"y\"]\n",
    "\n",
    "\n",
    "with open(r\"E:\\学习\\数据科学与工程导论\\lab11\\bike.csv\", \"w\", encoding='utf-8', newline=\"\") as f1:\n",
    "    writer = csv.writer(f1)\n",
    "    writer.writerow(header)\n",
    "    for i in lst:\n",
    "        writer.writerow(i)\n",
    "\n",
    "\n",
    "data = pd.read_csv(r\"E:\\学习\\数据科学与工程导论\\lab11\\bike.csv\")"
   ],
   "metadata": {
    "collapsed": false
   }
  },
  {
   "cell_type": "markdown",
   "source": [
    "数据预处理 I：id属性对构建回归预测模型没有帮助，请剔除掉该列。"
   ],
   "metadata": {
    "collapsed": false
   }
  },
  {
   "cell_type": "code",
   "execution_count": null,
   "outputs": [],
   "source": [
    "data_1 = data.drop('id', axis=1)"
   ],
   "metadata": {
    "collapsed": false
   }
  },
  {
   "cell_type": "markdown",
   "source": [
    "数据预处理 II：我们暂不考虑不同城市对单车租用的影响，请筛选出上海市的所有数据，然后剔除city列。\n",
    "提示：目前剩余4,998条数据。"
   ],
   "metadata": {
    "collapsed": false
   }
  },
  {
   "cell_type": "code",
   "execution_count": null,
   "outputs": [],
   "source": [
    "data_2 = data_1.loc[data_1['city'] == 1]\n",
    "data_2 = data_2.drop('city', axis=1)"
   ],
   "metadata": {
    "collapsed": false
   }
  },
  {
   "cell_type": "markdown",
   "source": [
    "数据预处理 III：为简化数据，请将hour列中原来6点-18点统一为1；19点-次日5点统一为0。"
   ],
   "metadata": {
    "collapsed": false
   }
  },
  {
   "cell_type": "code",
   "execution_count": null,
   "outputs": [],
   "source": [
    "data_2.loc[data_2['hour'] >= 19, 'hour'] = 0\n",
    "data_2.loc[data_2['hour'] <= 5, 'hour'] = 0\n",
    "data_2.loc[data_2['hour'] != 0, 'hour'] = 1"
   ],
   "metadata": {
    "collapsed": false
   }
  },
  {
   "cell_type": "markdown",
   "source": [
    "数据预处理 IV：y列为单车租用数量，是我们的预测目标（标签），请将该列提取出来，并转换为一个numpy列向量，将原先的y列剔除。"
   ],
   "metadata": {
    "collapsed": false
   }
  },
  {
   "cell_type": "code",
   "execution_count": null,
   "outputs": [],
   "source": [
    "y = data_2['y'].to_numpy()\n",
    "y = y.reshape(len(y), 1)\n",
    "data_2 = data_2.drop('y', axis=1)"
   ],
   "metadata": {
    "collapsed": false
   }
  },
  {
   "cell_type": "markdown",
   "source": [
    "数据预处理 V：请将DataFrame对象转换为Numpy数组，方便后续操作。"
   ],
   "metadata": {
    "collapsed": false
   }
  },
  {
   "cell_type": "code",
   "execution_count": null,
   "outputs": [],
   "source": [
    "data_2 = data_2.to_numpy()"
   ],
   "metadata": {
    "collapsed": false
   }
  },
  {
   "cell_type": "markdown",
   "source": [
    "数据集划分：请按照训练集与测试集8:2的比例将原始数据集划分。"
   ],
   "metadata": {
    "collapsed": false
   }
  },
  {
   "cell_type": "code",
   "execution_count": null,
   "outputs": [],
   "source": [
    "x_train, x_test, y_train, y_test = train_test_split(data_2, y, test_size=0.2)"
   ],
   "metadata": {
    "collapsed": false
   }
  },
  {
   "cell_type": "markdown",
   "source": [
    "数据预处理 VI：请分别对训练集数据、训练集标签、测试集数据和测试集标签进行归一化。"
   ],
   "metadata": {
    "collapsed": false
   }
  },
  {
   "cell_type": "code",
   "execution_count": null,
   "outputs": [],
   "source": [
    "x_train = scale.fit_transform(x_train)\n",
    "x_test = scale.fit_transform(x_test)\n",
    "y_train = scale.fit_transform(y_train)\n",
    "y_test = scale.fit_transform(y_test)"
   ],
   "metadata": {
    "collapsed": false
   }
  },
  {
   "cell_type": "markdown",
   "source": [
    "模型构建：请先构建一个线性回归模型（多元一次函数），然后利用训练集训练模型。"
   ],
   "metadata": {
    "collapsed": false
   }
  },
  {
   "cell_type": "code",
   "execution_count": null,
   "outputs": [],
   "source": [
    "model = LinearRegression()\n",
    "model.fit(x_train, y_train)"
   ],
   "metadata": {
    "collapsed": false
   }
  },
  {
   "cell_type": "markdown",
   "source": [
    "模型测试：利用测试集对训练好的模型进行评估。\n",
    "提示：使用predict(data_array)方法输入测试集，该函数返回值为模型预测值。"
   ],
   "metadata": {
    "collapsed": false
   }
  },
  {
   "cell_type": "code",
   "execution_count": null,
   "outputs": [],
   "source": [
    "y_predict = model.predict(x_test)"
   ],
   "metadata": {
    "collapsed": false
   }
  },
  {
   "cell_type": "markdown",
   "source": [
    "模型评估：请使用均方根误差（RMSE）作为评估指标，并输出RMSE值。\n",
    "均方根误差(Root of Mean Squared Error)，公式为\n"
   ],
   "metadata": {
    "collapsed": false
   }
  },
  {
   "cell_type": "code",
   "execution_count": null,
   "outputs": [],
   "source": [
    "print(mean_squared_error(y_test, y_predict)**0.5)"
   ],
   "metadata": {
    "collapsed": false
   }
  }
 ],
 "metadata": {
  "kernelspec": {
   "display_name": "Python 3",
   "language": "python",
   "name": "python3"
  },
  "language_info": {
   "codemirror_mode": {
    "name": "ipython",
    "version": 2
   },
   "file_extension": ".py",
   "mimetype": "text/x-python",
   "name": "python",
   "nbconvert_exporter": "python",
   "pygments_lexer": "ipython2",
   "version": "2.7.6"
  }
 },
 "nbformat": 4,
 "nbformat_minor": 0
}
