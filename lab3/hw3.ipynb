{
 "cells": [
  {
   "cell_type": "markdown",
   "source": [
    "1. 请编写一个函数，使用递归方法计算 n 的阶乘，并进行测试"
   ],
   "metadata": {
    "collapsed": false
   }
  },
  {
   "cell_type": "code",
   "execution_count": 1,
   "outputs": [
    {
     "name": "stdout",
     "output_type": "stream",
     "text": [
      "这个数的阶乘是24\n"
     ]
    }
   ],
   "source": [
    "def factorial(num):\n",
    "    if num == 1 or num == 0:\n",
    "        return 1\n",
    "    elif num > 1:\n",
    "        return num * factorial(num - 1)\n",
    "\n",
    "\n",
    "if __name__ == '__main__':\n",
    "    n = int(input('请输入一个自然数: '))\n",
    "    result = factorial(n)\n",
    "    print(\"这个数的阶乘是%d\" % result)"
   ],
   "metadata": {
    "collapsed": false
   }
  },
  {
   "cell_type": "markdown",
   "source": [
    "2. 请编写程序，使用 math 库计算27的立方根"
   ],
   "metadata": {
    "collapsed": false
   }
  },
  {
   "cell_type": "code",
   "execution_count": 2,
   "outputs": [
    {
     "name": "stdout",
     "output_type": "stream",
     "text": [
      "27的立方根是3\n"
     ]
    }
   ],
   "source": [
    "import math\n",
    "\n",
    "n = math.pow(27, 1 / 3)\n",
    "print(\"27的立方根是%d\" % n)"
   ],
   "metadata": {
    "collapsed": false
   }
  },
  {
   "cell_type": "markdown",
   "source": [
    "3. 有装有15个硬币的袋子。15个硬币中有一个是伪造的，并且那个伪造的硬币比真的硬币要轻一些。\n",
    "我们要找出这个伪造的硬币。我们有一台可用来比较两组硬币重量的仪器，利用这台仪器，可以知\n",
    "道两组硬币的重量是否相同。请编写程序使用分治方法模拟上述过程，假设硬币的重量为列表\n",
    "[2,2,2,2,2,2,1,2,2,2,2,2,2,2,2]找出假币的序号（序号从0开始，假币的序号为6）"
   ],
   "metadata": {
    "collapsed": false
   }
  },
  {
   "cell_type": "code",
   "execution_count": 3,
   "outputs": [
    {
     "name": "stdout",
     "output_type": "stream",
     "text": [
      "假币的序号是6\n"
     ]
    }
   ],
   "source": [
    "def divide_conquer(lst, LeftEnd, RightEnd):\n",
    "    if LeftEnd == RightEnd:\n",
    "        return LeftEnd\n",
    "    num = RightEnd - LeftEnd + 1\n",
    "    if num % 2 == 0:\n",
    "        mid = (LeftEnd + RightEnd) // 2\n",
    "        LeftSum = 0\n",
    "        RightSum = 0\n",
    "        for item in lst[LeftEnd:mid + 1]:\n",
    "            LeftSum += item\n",
    "        for item in lst[mid + 1:RightEnd + 1]:\n",
    "            RightSum += item\n",
    "        if LeftSum < RightSum:\n",
    "            return divide_conquer(lst, LeftEnd, mid)\n",
    "        else:\n",
    "            return divide_conquer(lst, mid + 1, RightEnd)\n",
    "    else:\n",
    "        mid = (LeftEnd + RightEnd) // 2\n",
    "        LeftSum = 0\n",
    "        RightSum = 0\n",
    "        for item in lst[LeftEnd:mid]:\n",
    "            LeftSum += item\n",
    "        for item in lst[mid + 1:RightEnd + 1]:\n",
    "            RightSum += item\n",
    "        if LeftSum == RightSum:\n",
    "            return mid\n",
    "        elif LeftSum < RightSum:\n",
    "            return divide_conquer(lst, LeftEnd, mid - 1)\n",
    "        else:\n",
    "            return divide_conquer(lst, mid + 1, RightEnd)\n",
    "\n",
    "\n",
    "if __name__ == '__main__':\n",
    "    coin = [2, 2, 2, 2, 2, 2, 1, 2, 2, 2, 2, 2, 2, 2, 2]\n",
    "    result = divide_conquer(coin, 0, len(coin)-1)\n",
    "    print(\"假币的序号是%d\" % result)"
   ],
   "metadata": {
    "collapsed": false
   }
  },
  {
   "cell_type": "markdown",
   "source": [
    "4. 使用蒙特卡洛法计算  $\\int_{2}^{3}(x^2 + 4xsin(x))dx$\n",
    "\n"
   ],
   "metadata": {
    "collapsed": false
   }
  },
  {
   "cell_type": "code",
   "execution_count": 4,
   "outputs": [
    {
     "name": "stdout",
     "output_type": "stream",
     "text": [
      "这个定积分的值是: 11.867500\n"
     ]
    }
   ],
   "source": [
    "import random\n",
    "import math\n",
    "\n",
    "\n",
    "def fun(variable):\n",
    "    return variable ** 2 + 4 * variable * math.sin(variable)\n",
    "\n",
    "\n",
    "if __name__ == '__main__':\n",
    "    cnt = 0\n",
    "    total = 10000\n",
    "    high = 25\n",
    "    left = 2\n",
    "    right = 3\n",
    "    for i in range(cnt, total + 1):\n",
    "        x = random.uniform(left, right)\n",
    "        y = random.uniform(0, high)\n",
    "        if y <= fun(x):\n",
    "            cnt += 1\n",
    "    result = cnt / total * 25\n",
    "    print(\"这个定积分的值是: %f\" % result)"
   ],
   "metadata": {
    "collapsed": false
   }
  }
 ],
 "metadata": {
  "kernelspec": {
   "display_name": "Python 3",
   "language": "python",
   "name": "python3"
  },
  "language_info": {
   "codemirror_mode": {
    "name": "ipython",
    "version": 2
   },
   "file_extension": ".py",
   "mimetype": "text/x-python",
   "name": "python",
   "nbconvert_exporter": "python",
   "pygments_lexer": "ipython2",
   "version": "2.7.6"
  }
 },
 "nbformat": 4,
 "nbformat_minor": 0
}
